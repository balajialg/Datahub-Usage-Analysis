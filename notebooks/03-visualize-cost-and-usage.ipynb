{
 "cells": [
  {
   "cell_type": "markdown",
   "metadata": {},
   "source": [
    "## All graphs dealing w/any billing data are broken!\n",
    "0. be sure to run this notebook in the notebook/ directory!\n",
    "1. session length - general stats on how long sessions are. means,\n",
    "percentiles, etc.\n",
    "2. User 'profile' - how many 'kinds' of users do we have? Some who\n",
    "just pop in once? Some who pop in a few times a week for a fixed\n",
    "amount of time? some who are there all the time? what kinda user\n",
    "clusters do we have?\n",
    "3. Who are those people using it 400 times in a semester?\n",
    "4. are there user corelations? Can we spot 'groups' of users with\n",
    "similar behavior? What kinda behavior is it? etc"
   ]
  },
  {
   "cell_type": "code",
   "execution_count": 15,
   "metadata": {},
   "outputs": [],
   "source": [
    "import pandas as pd\n",
    "import numpy as np\n",
    "from datetime import datetime\n",
    "import altair as alt\n",
    "from IPython import display"
   ]
  },
  {
   "cell_type": "code",
   "execution_count": 16,
   "metadata": {},
   "outputs": [
    {
     "data": {
      "text/plain": [
       "ThemeRegistry.enable('my-chart')"
      ]
     },
     "execution_count": 16,
     "metadata": {},
     "output_type": "execute_result"
    }
   ],
   "source": [
    "# Set the altair theme\n",
    "def my_theme(*args, **kwargs):\n",
    "    return {'config': {'axis': {'labelFontSize': 20, 'titleFontSize': 20}}}\n",
    "alt.themes.register('my-chart', my_theme)\n",
    "alt.themes.enable('my-chart')"
   ]
  },
  {
   "cell_type": "markdown",
   "metadata": {},
   "source": [
    "# Params and functions"
   ]
  },
  {
   "cell_type": "code",
   "execution_count": 17,
   "metadata": {},
   "outputs": [],
   "source": [
    "semester_start = pd.Timestamp('2023-01-10').tz_localize('US/Pacific')\n",
    "semester_end = pd.Timestamp('2023-05-12').tz_localize('US/Pacific')"
   ]
  },
  {
   "cell_type": "code",
   "execution_count": 18,
   "metadata": {},
   "outputs": [],
   "source": [
    "def convert_tz(series):\n",
    "    series = series.dt.tz_localize('UTC')\n",
    "    return series.dt.tz_convert('US/Pacific')"
   ]
  },
  {
   "cell_type": "markdown",
   "metadata": {},
   "source": [
    "# Load data"
   ]
  },
  {
   "cell_type": "markdown",
   "metadata": {},
   "source": [
    "## User session data"
   ]
  },
  {
   "cell_type": "code",
   "execution_count": 19,
   "metadata": {
    "scrolled": true
   },
   "outputs": [],
   "source": [
    "# Log data for user activity\n",
    "path_sessions = '../data/processed/spring-2023/user-sessions.jsonl'\n",
    "sessions = pd.read_json(path_sessions, convert_dates=['start', 'stop'])\n",
    "\n",
    "for col in ['start', 'stop']:\n",
    "    sessions[col] = convert_tz(sessions[col])"
   ]
  },
  {
   "cell_type": "code",
   "execution_count": 20,
   "metadata": {},
   "outputs": [
    {
     "name": "stdout",
     "output_type": "stream",
     "text": [
      "263833\n",
      "261231\n"
     ]
    },
    {
     "name": "stderr",
     "output_type": "stream",
     "text": [
      "/tmp/ipykernel_11091/3046363681.py:3: UserWarning: Boolean Series key will be reindexed to match DataFrame index.\n",
      "  sessions = sessions[sessions['start'] > semester_start][sessions['start'] < semester_end]\n"
     ]
    }
   ],
   "source": [
    "print(len(sessions))\n",
    "# Only between start and end of semester\n",
    "sessions = sessions[sessions['start'] > semester_start][sessions['start'] < semester_end]\n",
    "print(len(sessions))"
   ]
  },
  {
   "cell_type": "markdown",
   "metadata": {},
   "source": [
    "## BROKEN -- Cost per day"
   ]
  },
  {
   "cell_type": "code",
   "execution_count": null,
   "metadata": {},
   "outputs": [],
   "source": [
    "cost = pd.read_json('../data/processed/fall-2018/cloud-costs.jsonl', lines=True)\n",
    "cost['start_time'] = convert_tz(cost['start_time'])\n",
    "cost = cost.drop(columns=['end_time']).set_index('start_time')"
   ]
  },
  {
   "cell_type": "code",
   "execution_count": null,
   "metadata": {},
   "outputs": [],
   "source": [
    "# Only between start and end of semester\n",
    "cost = cost[cost.index > semester_start][cost.index < semester_end]\n",
    "# We only use indexing timestamps to make the tz_localize easier.\n",
    "# after that, we drop it to make everything else easier\n",
    "cost = cost.reset_index()\n",
    "\n",
    "# Fill in any missing data before beginning of date\n",
    "missing_dates = pd.date_range(semester_start, cost.start_time.min(), name='start_time')\n",
    "missing_dates_cost = pd.DataFrame(missing_dates, np.full(len(missing_dates), np.nan), columns={'start_time', 'cost'})\n",
    "cost = cost.append(missing_dates_cost)"
   ]
  },
  {
   "cell_type": "markdown",
   "metadata": {
    "toc-hr-collapsed": false
   },
   "source": [
    "# Viz and analysis"
   ]
  },
  {
   "cell_type": "markdown",
   "metadata": {
    "toc-hr-collapsed": false
   },
   "source": [
    "## Daily Active user\n",
    "\n",
    "We count someone as a 'daily active user' if they start / stop their notebook server\n",
    "at least once. Due to anonimization techniques applied earlier, this might slightly\n",
    "under count users"
   ]
  },
  {
   "cell_type": "code",
   "execution_count": 21,
   "metadata": {},
   "outputs": [],
   "source": [
    "# Unique daily users - we count anyone who has logged in at least once a day\n",
    "# We want a dataframe with no index so we can use it easily with Altair\n",
    "daily_active_users = pd.DataFrame(sessions.set_index('start')['user'].resample('D').nunique()).reset_index()"
   ]
  },
  {
   "cell_type": "code",
   "execution_count": 22,
   "metadata": {},
   "outputs": [
    {
     "data": {
      "text/html": [
       "\n",
       "<style>\n",
       "  #altair-viz-f84e1f42d62940b6a76e279f3a281a52.vega-embed {\n",
       "    width: 100%;\n",
       "    display: flex;\n",
       "  }\n",
       "\n",
       "  #altair-viz-f84e1f42d62940b6a76e279f3a281a52.vega-embed details,\n",
       "  #altair-viz-f84e1f42d62940b6a76e279f3a281a52.vega-embed details summary {\n",
       "    position: relative;\n",
       "  }\n",
       "</style>\n",
       "<div id=\"altair-viz-f84e1f42d62940b6a76e279f3a281a52\"></div>\n",
       "<script type=\"text/javascript\">\n",
       "  var VEGA_DEBUG = (typeof VEGA_DEBUG == \"undefined\") ? {} : VEGA_DEBUG;\n",
       "  (function(spec, embedOpt){\n",
       "    let outputDiv = document.currentScript.previousElementSibling;\n",
       "    if (outputDiv.id !== \"altair-viz-f84e1f42d62940b6a76e279f3a281a52\") {\n",
       "      outputDiv = document.getElementById(\"altair-viz-f84e1f42d62940b6a76e279f3a281a52\");\n",
       "    }\n",
       "    const paths = {\n",
       "      \"vega\": \"https://cdn.jsdelivr.net/npm/vega@5?noext\",\n",
       "      \"vega-lib\": \"https://cdn.jsdelivr.net/npm/vega-lib?noext\",\n",
       "      \"vega-lite\": \"https://cdn.jsdelivr.net/npm/vega-lite@5.8.0?noext\",\n",
       "      \"vega-embed\": \"https://cdn.jsdelivr.net/npm/vega-embed@6?noext\",\n",
       "    };\n",
       "\n",
       "    function maybeLoadScript(lib, version) {\n",
       "      var key = `${lib.replace(\"-\", \"\")}_version`;\n",
       "      return (VEGA_DEBUG[key] == version) ?\n",
       "        Promise.resolve(paths[lib]) :\n",
       "        new Promise(function(resolve, reject) {\n",
       "          var s = document.createElement('script');\n",
       "          document.getElementsByTagName(\"head\")[0].appendChild(s);\n",
       "          s.async = true;\n",
       "          s.onload = () => {\n",
       "            VEGA_DEBUG[key] = version;\n",
       "            return resolve(paths[lib]);\n",
       "          };\n",
       "          s.onerror = () => reject(`Error loading script: ${paths[lib]}`);\n",
       "          s.src = paths[lib];\n",
       "        });\n",
       "    }\n",
       "\n",
       "    function showError(err) {\n",
       "      outputDiv.innerHTML = `<div class=\"error\" style=\"color:red;\">${err}</div>`;\n",
       "      throw err;\n",
       "    }\n",
       "\n",
       "    function displayChart(vegaEmbed) {\n",
       "      vegaEmbed(outputDiv, spec, embedOpt)\n",
       "        .catch(err => showError(`Javascript Error: ${err.message}<br>This usually means there's a typo in your chart specification. See the javascript console for the full traceback.`));\n",
       "    }\n",
       "\n",
       "    if(typeof define === \"function\" && define.amd) {\n",
       "      requirejs.config({paths});\n",
       "      require([\"vega-embed\"], displayChart, err => showError(`Error loading script: ${err.message}`));\n",
       "    } else {\n",
       "      maybeLoadScript(\"vega\", \"5\")\n",
       "        .then(() => maybeLoadScript(\"vega-lite\", \"5.8.0\"))\n",
       "        .then(() => maybeLoadScript(\"vega-embed\", \"6\"))\n",
       "        .catch(showError)\n",
       "        .then(() => displayChart(vegaEmbed));\n",
       "    }\n",
       "  })({\"config\": {\"axis\": {\"labelFontSize\": 20, \"titleFontSize\": 20}}, \"data\": {\"name\": \"data-47a4f1361e1f12437f11b0f12c0ab631\"}, \"mark\": {\"type\": \"line\"}, \"encoding\": {\"x\": {\"field\": \"start\", \"type\": \"temporal\"}, \"y\": {\"field\": \"user\", \"type\": \"quantitative\"}}, \"width\": 900, \"$schema\": \"https://vega.github.io/schema/vega-lite/v5.8.0.json\", \"datasets\": {\"data-47a4f1361e1f12437f11b0f12c0ab631\": [{\"start\": \"2023-01-10T00:00:00-08:00\", \"user\": 196}, {\"start\": \"2023-01-11T00:00:00-08:00\", \"user\": 154}, {\"start\": \"2023-01-12T00:00:00-08:00\", \"user\": 168}, {\"start\": \"2023-01-13T00:00:00-08:00\", \"user\": 122}, {\"start\": \"2023-01-14T00:00:00-08:00\", \"user\": 114}, {\"start\": \"2023-01-15T00:00:00-08:00\", \"user\": 136}, {\"start\": \"2023-01-16T00:00:00-08:00\", \"user\": 333}, {\"start\": \"2023-01-17T00:00:00-08:00\", \"user\": 1148}, {\"start\": \"2023-01-18T00:00:00-08:00\", \"user\": 2287}, {\"start\": \"2023-01-19T00:00:00-08:00\", \"user\": 2217}, {\"start\": \"2023-01-20T00:00:00-08:00\", \"user\": 2591}, {\"start\": \"2023-01-21T00:00:00-08:00\", \"user\": 996}, {\"start\": \"2023-01-22T00:00:00-08:00\", \"user\": 1626}, {\"start\": \"2023-01-23T00:00:00-08:00\", \"user\": 3363}, {\"start\": \"2023-01-24T00:00:00-08:00\", \"user\": 3024}, {\"start\": \"2023-01-25T00:00:00-08:00\", \"user\": 3514}, {\"start\": \"2023-01-26T00:00:00-08:00\", \"user\": 2778}, {\"start\": \"2023-01-27T00:00:00-08:00\", \"user\": 2323}, {\"start\": \"2023-01-28T00:00:00-08:00\", \"user\": 1182}, {\"start\": \"2023-01-29T00:00:00-08:00\", \"user\": 1766}, {\"start\": \"2023-01-30T00:00:00-08:00\", \"user\": 3512}, {\"start\": \"2023-01-31T00:00:00-08:00\", \"user\": 3322}, {\"start\": \"2023-02-01T00:00:00-08:00\", \"user\": 3330}, {\"start\": \"2023-02-02T00:00:00-08:00\", \"user\": 2865}, {\"start\": \"2023-02-03T00:00:00-08:00\", \"user\": 2507}, {\"start\": \"2023-02-04T00:00:00-08:00\", \"user\": 1339}, {\"start\": \"2023-02-05T00:00:00-08:00\", \"user\": 1602}, {\"start\": \"2023-02-06T00:00:00-08:00\", \"user\": 3532}, {\"start\": \"2023-02-07T00:00:00-08:00\", \"user\": 3511}, {\"start\": \"2023-02-08T00:00:00-08:00\", \"user\": 3511}, {\"start\": \"2023-02-09T00:00:00-08:00\", \"user\": 2761}, {\"start\": \"2023-02-10T00:00:00-08:00\", \"user\": 2348}, {\"start\": \"2023-02-11T00:00:00-08:00\", \"user\": 1383}, {\"start\": \"2023-02-12T00:00:00-08:00\", \"user\": 1605}, {\"start\": \"2023-02-13T00:00:00-08:00\", \"user\": 3499}, {\"start\": \"2023-02-14T00:00:00-08:00\", \"user\": 3132}, {\"start\": \"2023-02-15T00:00:00-08:00\", \"user\": 3419}, {\"start\": \"2023-02-16T00:00:00-08:00\", \"user\": 2740}, {\"start\": \"2023-02-17T00:00:00-08:00\", \"user\": 2349}, {\"start\": \"2023-02-18T00:00:00-08:00\", \"user\": 1166}, {\"start\": \"2023-02-19T00:00:00-08:00\", \"user\": 1213}, {\"start\": \"2023-02-20T00:00:00-08:00\", \"user\": 2184}, {\"start\": \"2023-02-21T00:00:00-08:00\", \"user\": 3055}, {\"start\": \"2023-02-22T00:00:00-08:00\", \"user\": 3162}, {\"start\": \"2023-02-23T00:00:00-08:00\", \"user\": 3060}, {\"start\": \"2023-02-24T00:00:00-08:00\", \"user\": 2281}, {\"start\": \"2023-02-25T00:00:00-08:00\", \"user\": 1386}, {\"start\": \"2023-02-26T00:00:00-08:00\", \"user\": 1408}, {\"start\": \"2023-02-27T00:00:00-08:00\", \"user\": 2668}, {\"start\": \"2023-02-28T00:00:00-08:00\", \"user\": 2730}, {\"start\": \"2023-03-01T00:00:00-08:00\", \"user\": 2415}, {\"start\": \"2023-03-02T00:00:00-08:00\", \"user\": 1910}, {\"start\": \"2023-03-03T00:00:00-08:00\", \"user\": 1954}, {\"start\": \"2023-03-04T00:00:00-08:00\", \"user\": 1082}, {\"start\": \"2023-03-05T00:00:00-08:00\", \"user\": 1476}, {\"start\": \"2023-03-06T00:00:00-08:00\", \"user\": 2780}, {\"start\": \"2023-03-07T00:00:00-08:00\", \"user\": 2815}, {\"start\": \"2023-03-08T00:00:00-08:00\", \"user\": 2327}, {\"start\": \"2023-03-09T00:00:00-08:00\", \"user\": 1752}, {\"start\": \"2023-03-10T00:00:00-08:00\", \"user\": 1741}, {\"start\": \"2023-03-11T00:00:00-08:00\", \"user\": 708}, {\"start\": \"2023-03-12T00:00:00-08:00\", \"user\": 880}, {\"start\": \"2023-03-13T00:00:00-07:00\", \"user\": 1939}, {\"start\": \"2023-03-14T00:00:00-07:00\", \"user\": 1766}, {\"start\": \"2023-03-15T00:00:00-07:00\", \"user\": 2458}, {\"start\": \"2023-03-16T00:00:00-07:00\", \"user\": 2090}, {\"start\": \"2023-03-17T00:00:00-07:00\", \"user\": 1641}, {\"start\": \"2023-03-18T00:00:00-07:00\", \"user\": 996}, {\"start\": \"2023-03-19T00:00:00-07:00\", \"user\": 1017}, {\"start\": \"2023-03-20T00:00:00-07:00\", \"user\": 2397}, {\"start\": \"2023-03-21T00:00:00-07:00\", \"user\": 2504}, {\"start\": \"2023-03-22T00:00:00-07:00\", \"user\": 2819}, {\"start\": \"2023-03-23T00:00:00-07:00\", \"user\": 2316}, {\"start\": \"2023-03-24T00:00:00-07:00\", \"user\": 2024}, {\"start\": \"2023-03-25T00:00:00-07:00\", \"user\": 825}, {\"start\": \"2023-03-26T00:00:00-07:00\", \"user\": 373}, {\"start\": \"2023-03-27T00:00:00-07:00\", \"user\": 545}, {\"start\": \"2023-03-28T00:00:00-07:00\", \"user\": 419}, {\"start\": \"2023-03-29T00:00:00-07:00\", \"user\": 430}, {\"start\": \"2023-03-30T00:00:00-07:00\", \"user\": 390}, {\"start\": \"2023-03-31T00:00:00-07:00\", \"user\": 453}, {\"start\": \"2023-04-01T00:00:00-07:00\", \"user\": 439}, {\"start\": \"2023-04-02T00:00:00-07:00\", \"user\": 803}, {\"start\": \"2023-04-03T00:00:00-07:00\", \"user\": 2086}, {\"start\": \"2023-04-04T00:00:00-07:00\", \"user\": 2565}, {\"start\": \"2023-04-05T00:00:00-07:00\", \"user\": 2631}, {\"start\": \"2023-04-06T00:00:00-07:00\", \"user\": 2496}, {\"start\": \"2023-04-07T00:00:00-07:00\", \"user\": 2522}, {\"start\": \"2023-04-08T00:00:00-07:00\", \"user\": 1019}, {\"start\": \"2023-04-09T00:00:00-07:00\", \"user\": 1086}, {\"start\": \"2023-04-10T00:00:00-07:00\", \"user\": 2243}, {\"start\": \"2023-04-11T00:00:00-07:00\", \"user\": 2677}, {\"start\": \"2023-04-12T00:00:00-07:00\", \"user\": 2884}, {\"start\": \"2023-04-13T00:00:00-07:00\", \"user\": 2837}, {\"start\": \"2023-04-14T00:00:00-07:00\", \"user\": 2049}, {\"start\": \"2023-04-15T00:00:00-07:00\", \"user\": 929}, {\"start\": \"2023-04-16T00:00:00-07:00\", \"user\": 1087}, {\"start\": \"2023-04-17T00:00:00-07:00\", \"user\": 2592}, {\"start\": \"2023-04-18T00:00:00-07:00\", \"user\": 2722}, {\"start\": \"2023-04-19T00:00:00-07:00\", \"user\": 2844}, {\"start\": \"2023-04-20T00:00:00-07:00\", \"user\": 1942}, {\"start\": \"2023-04-21T00:00:00-07:00\", \"user\": 2144}, {\"start\": \"2023-04-22T00:00:00-07:00\", \"user\": 905}, {\"start\": \"2023-04-23T00:00:00-07:00\", \"user\": 1195}, {\"start\": \"2023-04-24T00:00:00-07:00\", \"user\": 2650}, {\"start\": \"2023-04-25T00:00:00-07:00\", \"user\": 2686}, {\"start\": \"2023-04-26T00:00:00-07:00\", \"user\": 2633}, {\"start\": \"2023-04-27T00:00:00-07:00\", \"user\": 2392}, {\"start\": \"2023-04-28T00:00:00-07:00\", \"user\": 1621}, {\"start\": \"2023-04-29T00:00:00-07:00\", \"user\": 877}, {\"start\": \"2023-04-30T00:00:00-07:00\", \"user\": 728}, {\"start\": \"2023-05-01T00:00:00-07:00\", \"user\": 1257}, {\"start\": \"2023-05-02T00:00:00-07:00\", \"user\": 1023}, {\"start\": \"2023-05-03T00:00:00-07:00\", \"user\": 818}, {\"start\": \"2023-05-04T00:00:00-07:00\", \"user\": 689}, {\"start\": \"2023-05-05T00:00:00-07:00\", \"user\": 662}, {\"start\": \"2023-05-06T00:00:00-07:00\", \"user\": 344}, {\"start\": \"2023-05-07T00:00:00-07:00\", \"user\": 366}, {\"start\": \"2023-05-08T00:00:00-07:00\", \"user\": 440}, {\"start\": \"2023-05-09T00:00:00-07:00\", \"user\": 473}, {\"start\": \"2023-05-10T00:00:00-07:00\", \"user\": 385}, {\"start\": \"2023-05-11T00:00:00-07:00\", \"user\": 386}]}}, {\"mode\": \"vega-lite\"});\n",
       "</script>"
      ],
      "text/plain": [
       "alt.Chart(...)"
      ]
     },
     "execution_count": 22,
     "metadata": {},
     "output_type": "execute_result"
    }
   ],
   "source": [
    "alt.Chart(daily_active_users, width=900).mark_line().encode(\n",
    "    x='start',\n",
    "    y='user'\n",
    ")"
   ]
  },
  {
   "cell_type": "code",
   "execution_count": 23,
   "metadata": {},
   "outputs": [
    {
     "data": {
      "text/html": [
       "<h3>Daily active users: </h3><b>Mean -- max -- min</b><br> 1811.37 --  3532.00 --  114.00"
      ],
      "text/plain": [
       "<IPython.core.display.HTML object>"
      ]
     },
     "execution_count": 23,
     "metadata": {},
     "output_type": "execute_result"
    }
   ],
   "source": [
    "# daily active users stats\n",
    "mean_daily_active_users = daily_active_users['user'].mean()\n",
    "max_daily_active_users = daily_active_users['user'].max()\n",
    "min_daily_active_users = daily_active_users['user'].min()\n",
    "display.HTML(f'<h3>Daily active users: </h3><b>Mean -- max -- min</b><br>{mean_daily_active_users: .2f} -- {max_daily_active_users: .2f} -- {min_daily_active_users: .2f}') "
   ]
  },
  {
   "cell_type": "markdown",
   "metadata": {
    "jp-MarkdownHeadingCollapsed": true,
    "toc-hr-collapsed": true
   },
   "source": [
    "## BROKEN -- Daily cloud costs"
   ]
  },
  {
   "cell_type": "code",
   "execution_count": 12,
   "metadata": {},
   "outputs": [
    {
     "data": {
      "application/vnd.vegalite.v2+json": {
       "$schema": "https://vega.github.io/schema/vega-lite/v2.6.0.json",
       "config": {
        "axis": {
         "labelFontSize": 20,
         "titleFontSize": 20
        }
       },
       "data": {
        "name": "data-e1a6ecb613e6b4b772489f2dc1fc7a71"
       },
       "datasets": {
        "data-e1a6ecb613e6b4b772489f2dc1fc7a71": [
         {
          "cost": 40.156909999999996,
          "start_time": "2018-09-12T00:00:00-07:00"
         },
         {
          "cost": 263.958762,
          "start_time": "2018-09-13T00:00:00-07:00"
         },
         {
          "cost": 233.378606,
          "start_time": "2018-09-14T00:00:00-07:00"
         },
         {
          "cost": 220.49735600000002,
          "start_time": "2018-09-15T00:00:00-07:00"
         },
         {
          "cost": 221.476064,
          "start_time": "2018-09-16T00:00:00-07:00"
         },
         {
          "cost": 254.118337,
          "start_time": "2018-09-17T00:00:00-07:00"
         },
         {
          "cost": 268.713372,
          "start_time": "2018-09-18T00:00:00-07:00"
         },
         {
          "cost": 277.049757,
          "start_time": "2018-09-19T00:00:00-07:00"
         },
         {
          "cost": 291.302796,
          "start_time": "2018-09-20T00:00:00-07:00"
         },
         {
          "cost": 268.42976,
          "start_time": "2018-09-21T00:00:00-07:00"
         },
         {
          "cost": 246.082326,
          "start_time": "2018-09-22T00:00:00-07:00"
         },
         {
          "cost": 244.174214,
          "start_time": "2018-09-23T00:00:00-07:00"
         },
         {
          "cost": 245.52624400000002,
          "start_time": "2018-09-24T00:00:00-07:00"
         },
         {
          "cost": 254.888743,
          "start_time": "2018-09-25T00:00:00-07:00"
         },
         {
          "cost": 277.179144,
          "start_time": "2018-09-26T00:00:00-07:00"
         },
         {
          "cost": 290.026115,
          "start_time": "2018-09-27T00:00:00-07:00"
         },
         {
          "cost": 268.253716,
          "start_time": "2018-09-28T00:00:00-07:00"
         },
         {
          "cost": 262.364679,
          "start_time": "2018-09-29T00:00:00-07:00"
         },
         {
          "cost": 244.44310099999998,
          "start_time": "2018-09-30T00:00:00-07:00"
         },
         {
          "cost": 248.97004299999998,
          "start_time": "2018-10-01T00:00:00-07:00"
         },
         {
          "cost": 243.463813,
          "start_time": "2018-10-02T00:00:00-07:00"
         },
         {
          "cost": 304.920198,
          "start_time": "2018-10-03T00:00:00-07:00"
         },
         {
          "cost": 452.96205100000003,
          "start_time": "2018-10-04T00:00:00-07:00"
         },
         {
          "cost": 275.03173200000003,
          "start_time": "2018-10-05T00:00:00-07:00"
         },
         {
          "cost": 181.814937,
          "start_time": "2018-10-06T00:00:00-07:00"
         },
         {
          "cost": 173.638486,
          "start_time": "2018-10-07T00:00:00-07:00"
         },
         {
          "cost": 197.120381,
          "start_time": "2018-10-08T00:00:00-07:00"
         },
         {
          "cost": 212.07737500000002,
          "start_time": "2018-10-09T00:00:00-07:00"
         },
         {
          "cost": 219.799082,
          "start_time": "2018-10-10T00:00:00-07:00"
         },
         {
          "cost": 203.78078899999997,
          "start_time": "2018-10-11T00:00:00-07:00"
         },
         {
          "cost": 206.12004299999998,
          "start_time": "2018-10-12T00:00:00-07:00"
         },
         {
          "cost": 202.40058399999998,
          "start_time": "2018-10-13T00:00:00-07:00"
         },
         {
          "cost": 182.316341,
          "start_time": "2018-10-14T00:00:00-07:00"
         },
         {
          "cost": 183.284113,
          "start_time": "2018-10-15T00:00:00-07:00"
         },
         {
          "cost": 191.61486699999998,
          "start_time": "2018-10-16T00:00:00-07:00"
         },
         {
          "cost": 186.137944,
          "start_time": "2018-10-17T00:00:00-07:00"
         },
         {
          "cost": 185.817201,
          "start_time": "2018-10-18T00:00:00-07:00"
         },
         {
          "cost": 185.48708799999997,
          "start_time": "2018-10-19T00:00:00-07:00"
         },
         {
          "cost": 149.516785,
          "start_time": "2018-10-20T00:00:00-07:00"
         },
         {
          "cost": 121.764895,
          "start_time": "2018-10-21T00:00:00-07:00"
         },
         {
          "cost": 142.410472,
          "start_time": "2018-10-22T00:00:00-07:00"
         },
         {
          "cost": 155.93802300000002,
          "start_time": "2018-10-23T00:00:00-07:00"
         },
         {
          "cost": 156.858114,
          "start_time": "2018-10-24T00:00:00-07:00"
         },
         {
          "cost": 156.38318199999998,
          "start_time": "2018-10-25T00:00:00-07:00"
         },
         {
          "cost": 155.87109700000002,
          "start_time": "2018-10-26T00:00:00-07:00"
         },
         {
          "cost": 145.873503,
          "start_time": "2018-10-27T00:00:00-07:00"
         },
         {
          "cost": 143.64437099999998,
          "start_time": "2018-10-28T00:00:00-07:00"
         },
         {
          "cost": 149.627417,
          "start_time": "2018-10-29T00:00:00-07:00"
         },
         {
          "cost": 168.580365,
          "start_time": "2018-10-30T00:00:00-07:00"
         },
         {
          "cost": 169.53366599999998,
          "start_time": "2018-10-31T00:00:00-07:00"
         },
         {
          "cost": 165.6526,
          "start_time": "2018-11-01T00:00:00-07:00"
         },
         {
          "cost": 174.670979,
          "start_time": "2018-11-02T00:00:00-07:00"
         },
         {
          "cost": 154.460981,
          "start_time": "2018-11-03T00:00:00-07:00"
         },
         {
          "cost": 160.182685,
          "start_time": "2018-11-04T00:00:00-07:00"
         },
         {
          "cost": 154.16036599999998,
          "start_time": "2018-11-05T00:00:00-08:00"
         },
         {
          "cost": 154.746287,
          "start_time": "2018-11-06T00:00:00-08:00"
         },
         {
          "cost": 170.92835399999998,
          "start_time": "2018-11-07T00:00:00-08:00"
         },
         {
          "cost": 177.70142,
          "start_time": "2018-11-08T00:00:00-08:00"
         },
         {
          "cost": 179.00012300000003,
          "start_time": "2018-11-09T00:00:00-08:00"
         },
         {
          "cost": 179.290468,
          "start_time": "2018-11-10T00:00:00-08:00"
         },
         {
          "cost": 165.391022,
          "start_time": "2018-11-11T00:00:00-08:00"
         },
         {
          "cost": 157.576163,
          "start_time": "2018-11-12T00:00:00-08:00"
         },
         {
          "cost": 163.672754,
          "start_time": "2018-11-13T00:00:00-08:00"
         },
         {
          "cost": 183.722065,
          "start_time": "2018-11-14T00:00:00-08:00"
         },
         {
          "cost": 195.25908099999998,
          "start_time": "2018-11-15T00:00:00-08:00"
         },
         {
          "cost": 188.49224700000002,
          "start_time": "2018-11-16T00:00:00-08:00"
         },
         {
          "cost": 180.42066499999999,
          "start_time": "2018-11-17T00:00:00-08:00"
         },
         {
          "cost": 170.58507500000002,
          "start_time": "2018-11-18T00:00:00-08:00"
         },
         {
          "cost": 169.096144,
          "start_time": "2018-11-19T00:00:00-08:00"
         },
         {
          "cost": 168.46590500000002,
          "start_time": "2018-11-20T00:00:00-08:00"
         },
         {
          "cost": 168.065076,
          "start_time": "2018-11-21T00:00:00-08:00"
         },
         {
          "cost": 167.400497,
          "start_time": "2018-11-22T00:00:00-08:00"
         },
         {
          "cost": 168.123972,
          "start_time": "2018-11-23T00:00:00-08:00"
         },
         {
          "cost": 167.694091,
          "start_time": "2018-11-24T00:00:00-08:00"
         },
         {
          "cost": 168.44466,
          "start_time": "2018-11-25T00:00:00-08:00"
         },
         {
          "cost": 172.00177,
          "start_time": "2018-11-26T00:00:00-08:00"
         },
         {
          "cost": 171.23877900000002,
          "start_time": "2018-11-27T00:00:00-08:00"
         },
         {
          "cost": 170.16072100000002,
          "start_time": "2018-11-28T00:00:00-08:00"
         },
         {
          "cost": 171.209544,
          "start_time": "2018-11-29T00:00:00-08:00"
         },
         {
          "cost": 170.10651,
          "start_time": "2018-11-30T00:00:00-08:00"
         },
         {
          "cost": 162.890289,
          "start_time": "2018-12-01T00:00:00-08:00"
         },
         {
          "cost": 164.59242200000003,
          "start_time": "2018-12-02T00:00:00-08:00"
         },
         {
          "cost": 164.49821300000002,
          "start_time": "2018-12-03T00:00:00-08:00"
         },
         {
          "cost": 164.51144,
          "start_time": "2018-12-04T00:00:00-08:00"
         },
         {
          "cost": 165.150755,
          "start_time": "2018-12-05T00:00:00-08:00"
         },
         {
          "cost": 165.040173,
          "start_time": "2018-12-06T00:00:00-08:00"
         },
         {
          "cost": 164.40057099999999,
          "start_time": "2018-12-07T00:00:00-08:00"
         },
         {
          "cost": 164.55875,
          "start_time": "2018-12-08T00:00:00-08:00"
         },
         {
          "cost": 164.60581200000001,
          "start_time": "2018-12-09T00:00:00-08:00"
         },
         {
          "cost": 164.520137,
          "start_time": "2018-12-10T00:00:00-08:00"
         },
         {
          "cost": 164.85765,
          "start_time": "2018-12-11T00:00:00-08:00"
         },
         {
          "cost": 164.251543,
          "start_time": "2018-12-12T00:00:00-08:00"
         },
         {
          "cost": 164.572575,
          "start_time": "2018-12-13T00:00:00-08:00"
         },
         {
          "cost": 162.11756,
          "start_time": "2018-12-14T00:00:00-08:00"
         },
         {
          "cost": null,
          "start_time": "2018-08-15T00:00:00-07:00"
         },
         {
          "cost": null,
          "start_time": "2018-08-16T00:00:00-07:00"
         },
         {
          "cost": null,
          "start_time": "2018-08-17T00:00:00-07:00"
         },
         {
          "cost": null,
          "start_time": "2018-08-18T00:00:00-07:00"
         },
         {
          "cost": null,
          "start_time": "2018-08-19T00:00:00-07:00"
         },
         {
          "cost": null,
          "start_time": "2018-08-20T00:00:00-07:00"
         },
         {
          "cost": null,
          "start_time": "2018-08-21T00:00:00-07:00"
         },
         {
          "cost": null,
          "start_time": "2018-08-22T00:00:00-07:00"
         },
         {
          "cost": null,
          "start_time": "2018-08-23T00:00:00-07:00"
         },
         {
          "cost": null,
          "start_time": "2018-08-24T00:00:00-07:00"
         },
         {
          "cost": null,
          "start_time": "2018-08-25T00:00:00-07:00"
         },
         {
          "cost": null,
          "start_time": "2018-08-26T00:00:00-07:00"
         },
         {
          "cost": null,
          "start_time": "2018-08-27T00:00:00-07:00"
         },
         {
          "cost": null,
          "start_time": "2018-08-28T00:00:00-07:00"
         },
         {
          "cost": null,
          "start_time": "2018-08-29T00:00:00-07:00"
         },
         {
          "cost": null,
          "start_time": "2018-08-30T00:00:00-07:00"
         },
         {
          "cost": null,
          "start_time": "2018-08-31T00:00:00-07:00"
         },
         {
          "cost": null,
          "start_time": "2018-09-01T00:00:00-07:00"
         },
         {
          "cost": null,
          "start_time": "2018-09-02T00:00:00-07:00"
         },
         {
          "cost": null,
          "start_time": "2018-09-03T00:00:00-07:00"
         },
         {
          "cost": null,
          "start_time": "2018-09-04T00:00:00-07:00"
         },
         {
          "cost": null,
          "start_time": "2018-09-05T00:00:00-07:00"
         },
         {
          "cost": null,
          "start_time": "2018-09-06T00:00:00-07:00"
         },
         {
          "cost": null,
          "start_time": "2018-09-07T00:00:00-07:00"
         },
         {
          "cost": null,
          "start_time": "2018-09-08T00:00:00-07:00"
         },
         {
          "cost": null,
          "start_time": "2018-09-09T00:00:00-07:00"
         },
         {
          "cost": null,
          "start_time": "2018-09-10T00:00:00-07:00"
         },
         {
          "cost": null,
          "start_time": "2018-09-11T00:00:00-07:00"
         },
         {
          "cost": null,
          "start_time": "2018-09-12T00:00:00-07:00"
         }
        ]
       },
       "encoding": {
        "x": {
         "field": "start_time",
         "type": "temporal"
        },
        "y": {
         "axis": {
          "format": "$.2f"
         },
         "field": "cost",
         "type": "quantitative"
        }
       },
       "mark": "line",
       "width": 900
      },
      "image/png": "[encoded data removed]",
      "text/plain": [
       "<VegaLite 2 object>\n",
       "\n",
       "If you see this message, it means the renderer has not been properly enabled\n",
       "for the frontend that you are using. For more information, see\n",
       "https://altair-viz.github.io/user_guide/troubleshooting.html\n"
      ]
     },
     "execution_count": 12,
     "metadata": {},
     "output_type": "execute_result"
    }
   ],
   "source": [
    "alt.Chart(cost, width=900).mark_line().encode(\n",
    "    x='start_time',\n",
    "    y=alt.Y('cost', axis=alt.Axis(format=\"$.2f\"))\n",
    ")"
   ]
  },
  {
   "cell_type": "code",
   "execution_count": 13,
   "metadata": {},
   "outputs": [
    {
     "data": {
      "text/html": [
       "<h3>Mean daily cloud cost: <b>$ 192.91</b></h3>"
      ],
      "text/plain": [
       "<IPython.core.display.HTML object>"
      ]
     },
     "execution_count": 13,
     "metadata": {},
     "output_type": "execute_result"
    }
   ],
   "source": [
    "# Mean daily active users\n",
    "mean_cost = cost['cost'].mean()\n",
    "display.HTML(f'<h3>Mean daily cloud cost: <b>${mean_cost: .2f}</b></h3>')"
   ]
  },
  {
   "cell_type": "markdown",
   "metadata": {},
   "source": [
    "## Daily cloud costs per **active** user\n",
    "\n",
    "This is cost per day for *active* users - those who used the cluster. This is only a fraction of your total users, so be careful using this for estimates."
   ]
  },
  {
   "cell_type": "code",
   "execution_count": 14,
   "metadata": {},
   "outputs": [],
   "source": [
    "# Combine into a single dataframe based on day\n",
    "total = pd.merge(daily_active_users, cost, how='outer', left_on='start', right_on='start_time').drop(columns=['start_time'])\n",
    "\n",
    "# Calculate daily cost per user\n",
    "total['cost_per_active_user'] = total['cost'] / total['user']"
   ]
  },
  {
   "cell_type": "code",
   "execution_count": 15,
   "metadata": {},
   "outputs": [
    {
     "data": {
      "application/vnd.vegalite.v2+json": {
       "$schema": "https://vega.github.io/schema/vega-lite/v2.6.0.json",
       "config": {
        "axis": {
         "labelFontSize": 20,
         "titleFontSize": 20
        }
       },
       "data": {
        "name": "data-34a11dd000fa2c8403902c3d108b6ac4"
       },
       "datasets": {
        "data-34a11dd000fa2c8403902c3d108b6ac4": [
         {
          "cost": null,
          "cost_per_active_user": null,
          "start": "2018-08-17T00:00:00-07:00",
          "user": 13
         },
         {
          "cost": null,
          "cost_per_active_user": null,
          "start": "2018-08-18T00:00:00-07:00",
          "user": 38
         },
         {
          "cost": null,
          "cost_per_active_user": null,
          "start": "2018-08-19T00:00:00-07:00",
          "user": 24
         },
         {
          "cost": null,
          "cost_per_active_user": null,
          "start": "2018-08-20T00:00:00-07:00",
          "user": 53
         },
         {
          "cost": null,
          "cost_per_active_user": null,
          "start": "2018-08-21T00:00:00-07:00",
          "user": 135
         },
         {
          "cost": null,
          "cost_per_active_user": null,
          "start": "2018-08-22T00:00:00-07:00",
          "user": 1176
         },
         {
          "cost": null,
          "cost_per_active_user": null,
          "start": "2018-08-23T00:00:00-07:00",
          "user": 1184
         },
         {
          "cost": null,
          "cost_per_active_user": null,
          "start": "2018-08-24T00:00:00-07:00",
          "user": 1332
         },
         {
          "cost": null,
          "cost_per_active_user": null,
          "start": "2018-08-25T00:00:00-07:00",
          "user": 918
         },
         {
          "cost": null,
          "cost_per_active_user": null,
          "start": "2018-08-26T00:00:00-07:00",
          "user": 1133
         },
         {
          "cost": null,
          "cost_per_active_user": null,
          "start": "2018-08-27T00:00:00-07:00",
          "user": 1447
         },
         {
          "cost": null,
          "cost_per_active_user": null,
          "start": "2018-08-28T00:00:00-07:00",
          "user": 1276
         },
         {
          "cost": null,
          "cost_per_active_user": null,
          "start": "2018-08-29T00:00:00-07:00",
          "user": 1519
         },
         {
          "cost": null,
          "cost_per_active_user": null,
          "start": "2018-08-30T00:00:00-07:00",
          "user": 1236
         },
         {
          "cost": null,
          "cost_per_active_user": null,
          "start": "2018-08-31T00:00:00-07:00",
          "user": 1143
         },
         {
          "cost": null,
          "cost_per_active_user": null,
          "start": "2018-09-01T00:00:00-07:00",
          "user": 728
         },
         {
          "cost": null,
          "cost_per_active_user": null,
          "start": "2018-09-02T00:00:00-07:00",
          "user": 914
         },
         {
          "cost": null,
          "cost_per_active_user": null,
          "start": "2018-09-03T00:00:00-07:00",
          "user": 1202
         },
         {
          "cost": null,
          "cost_per_active_user": null,
          "start": "2018-09-04T00:00:00-07:00",
          "user": 1409
         },
         {
          "cost": null,
          "cost_per_active_user": null,
          "start": "2018-09-05T00:00:00-07:00",
          "user": 1586
         },
         {
          "cost": null,
          "cost_per_active_user": null,
          "start": "2018-09-06T00:00:00-07:00",
          "user": 1278
         },
         {
          "cost": null,
          "cost_per_active_user": null,
          "start": "2018-09-07T00:00:00-07:00",
          "user": 1011
         },
         {
          "cost": null,
          "cost_per_active_user": null,
          "start": "2018-09-08T00:00:00-07:00",
          "user": 815
         },
         {
          "cost": null,
          "cost_per_active_user": null,
          "start": "2018-09-09T00:00:00-07:00",
          "user": 971
         },
         {
          "cost": null,
          "cost_per_active_user": null,
          "start": "2018-09-10T00:00:00-07:00",
          "user": 1369
         },
         {
          "cost": null,
          "cost_per_active_user": null,
          "start": "2018-09-11T00:00:00-07:00",
          "user": 1417
         },
         {
          "cost": 40.156909999999996,
          "cost_per_active_user": 0.02689679169457468,
          "start": "2018-09-12T00:00:00-07:00",
          "user": 1493
         },
         {
          "cost": null,
          "cost_per_active_user": null,
          "start": "2018-09-12T00:00:00-07:00",
          "user": 1493
         },
         {
          "cost": 263.958762,
          "cost_per_active_user": 0.21832817369727045,
          "start": "2018-09-13T00:00:00-07:00",
          "user": 1209
         },
         {
          "cost": 233.378606,
          "cost_per_active_user": 0.2598870890868597,
          "start": "2018-09-14T00:00:00-07:00",
          "user": 898
         },
         {
          "cost": 220.49735600000002,
          "cost_per_active_user": 0.28341562467866327,
          "start": "2018-09-15T00:00:00-07:00",
          "user": 778
         },
         {
          "cost": 221.476064,
          "cost_per_active_user": 0.2103286457739791,
          "start": "2018-09-16T00:00:00-07:00",
          "user": 1053
         },
         {
          "cost": 254.118337,
          "cost_per_active_user": 0.17758094828791054,
          "start": "2018-09-17T00:00:00-07:00",
          "user": 1431
         },
         {
          "cost": 268.713372,
          "cost_per_active_user": 0.19963846359583953,
          "start": "2018-09-18T00:00:00-07:00",
          "user": 1346
         },
         {
          "cost": 277.049757,
          "cost_per_active_user": 0.18656549292929292,
          "start": "2018-09-19T00:00:00-07:00",
          "user": 1485
         },
         {
          "cost": 291.302796,
          "cost_per_active_user": 0.210783499276411,
          "start": "2018-09-20T00:00:00-07:00",
          "user": 1382
         },
         {
          "cost": 268.42976,
          "cost_per_active_user": 0.22184277685950413,
          "start": "2018-09-21T00:00:00-07:00",
          "user": 1210
         },
         {
          "cost": 246.082326,
          "cost_per_active_user": 0.2954169579831933,
          "start": "2018-09-22T00:00:00-07:00",
          "user": 833
         },
         {
          "cost": 244.174214,
          "cost_per_active_user": 0.28163115801614763,
          "start": "2018-09-23T00:00:00-07:00",
          "user": 867
         },
         {
          "cost": 245.52624400000002,
          "cost_per_active_user": 0.2068460353833193,
          "start": "2018-09-24T00:00:00-07:00",
          "user": 1187
         },
         {
          "cost": 254.888743,
          "cost_per_active_user": 0.20054189063729347,
          "start": "2018-09-25T00:00:00-07:00",
          "user": 1271
         },
         {
          "cost": 277.179144,
          "cost_per_active_user": 0.1876636046039269,
          "start": "2018-09-26T00:00:00-07:00",
          "user": 1477
         },
         {
          "cost": 290.026115,
          "cost_per_active_user": 0.1991937603021978,
          "start": "2018-09-27T00:00:00-07:00",
          "user": 1456
         },
         {
          "cost": 268.253716,
          "cost_per_active_user": 0.2246681038525963,
          "start": "2018-09-28T00:00:00-07:00",
          "user": 1194
         },
         {
          "cost": 262.364679,
          "cost_per_active_user": 0.342066074315515,
          "start": "2018-09-29T00:00:00-07:00",
          "user": 767
         },
         {
          "cost": 244.44310099999998,
          "cost_per_active_user": 0.2454248002008032,
          "start": "2018-09-30T00:00:00-07:00",
          "user": 996
         },
         {
          "cost": 248.97004299999998,
          "cost_per_active_user": 0.1873363754702784,
          "start": "2018-10-01T00:00:00-07:00",
          "user": 1329
         },
         {
          "cost": 243.463813,
          "cost_per_active_user": 0.19384061544585987,
          "start": "2018-10-02T00:00:00-07:00",
          "user": 1256
         },
         {
          "cost": 304.920198,
          "cost_per_active_user": 0.2042332203616879,
          "start": "2018-10-03T00:00:00-07:00",
          "user": 1493
         },
         {
          "cost": 452.96205100000003,
          "cost_per_active_user": 0.3544303998435055,
          "start": "2018-10-04T00:00:00-07:00",
          "user": 1278
         },
         {
          "cost": 275.03173200000003,
          "cost_per_active_user": 0.31147421517553797,
          "start": "2018-10-05T00:00:00-07:00",
          "user": 883
         },
         {
          "cost": 181.814937,
          "cost_per_active_user": 0.2608535681492109,
          "start": "2018-10-06T00:00:00-07:00",
          "user": 697
         },
         {
          "cost": 173.638486,
          "cost_per_active_user": 0.193792953125,
          "start": "2018-10-07T00:00:00-07:00",
          "user": 896
         },
         {
          "cost": 197.120381,
          "cost_per_active_user": 0.15400029765625,
          "start": "2018-10-08T00:00:00-07:00",
          "user": 1280
         },
         {
          "cost": 212.07737500000002,
          "cost_per_active_user": 0.16363994984567903,
          "start": "2018-10-09T00:00:00-07:00",
          "user": 1296
         },
         {
          "cost": 219.799082,
          "cost_per_active_user": 0.1877020341588386,
          "start": "2018-10-10T00:00:00-07:00",
          "user": 1171
         },
         {
          "cost": 203.78078899999997,
          "cost_per_active_user": 0.22974158850056367,
          "start": "2018-10-11T00:00:00-07:00",
          "user": 887
         },
         {
          "cost": 206.12004299999998,
          "cost_per_active_user": 0.21927664148936168,
          "start": "2018-10-12T00:00:00-07:00",
          "user": 940
         },
         {
          "cost": 202.40058399999998,
          "cost_per_active_user": 0.5782873828571428,
          "start": "2018-10-13T00:00:00-07:00",
          "user": 350
         },
         {
          "cost": 182.316341,
          "cost_per_active_user": 0.43408652619047616,
          "start": "2018-10-14T00:00:00-07:00",
          "user": 420
         },
         {
          "cost": 183.284113,
          "cost_per_active_user": 0.21613692570754717,
          "start": "2018-10-15T00:00:00-07:00",
          "user": 848
         },
         {
          "cost": 191.61486699999998,
          "cost_per_active_user": 0.24917407932379712,
          "start": "2018-10-16T00:00:00-07:00",
          "user": 769
         },
         {
          "cost": 186.137944,
          "cost_per_active_user": 0.17915105293551492,
          "start": "2018-10-17T00:00:00-07:00",
          "user": 1039
         },
         {
          "cost": 185.817201,
          "cost_per_active_user": 0.18922321894093688,
          "start": "2018-10-18T00:00:00-07:00",
          "user": 982
         },
         {
          "cost": 185.48708799999997,
          "cost_per_active_user": 0.3086307620632279,
          "start": "2018-10-19T00:00:00-07:00",
          "user": 601
         },
         {
          "cost": 149.516785,
          "cost_per_active_user": 0.23884470447284345,
          "start": "2018-10-20T00:00:00-07:00",
          "user": 626
         },
         {
          "cost": 121.764895,
          "cost_per_active_user": 0.14977231857318574,
          "start": "2018-10-21T00:00:00-07:00",
          "user": 813
         },
         {
          "cost": 142.410472,
          "cost_per_active_user": 0.1228735737704918,
          "start": "2018-10-22T00:00:00-07:00",
          "user": 1159
         },
         {
          "cost": 155.93802300000002,
          "cost_per_active_user": 0.1469726889726673,
          "start": "2018-10-23T00:00:00-07:00",
          "user": 1061
         },
         {
          "cost": 156.858114,
          "cost_per_active_user": 0.11276643709561467,
          "start": "2018-10-24T00:00:00-07:00",
          "user": 1391
         },
         {
          "cost": 156.38318199999998,
          "cost_per_active_user": 0.11937647480916029,
          "start": "2018-10-25T00:00:00-07:00",
          "user": 1310
         },
         {
          "cost": 155.87109700000002,
          "cost_per_active_user": 0.1409322757685353,
          "start": "2018-10-26T00:00:00-07:00",
          "user": 1106
         },
         {
          "cost": 145.873503,
          "cost_per_active_user": 0.22270763816793893,
          "start": "2018-10-27T00:00:00-07:00",
          "user": 655
         },
         {
          "cost": 143.64437099999998,
          "cost_per_active_user": 0.17390359685230022,
          "start": "2018-10-28T00:00:00-07:00",
          "user": 826
         },
         {
          "cost": 149.627417,
          "cost_per_active_user": 0.11922503346613547,
          "start": "2018-10-29T00:00:00-07:00",
          "user": 1255
         },
         {
          "cost": 168.580365,
          "cost_per_active_user": 0.14060080483736448,
          "start": "2018-10-30T00:00:00-07:00",
          "user": 1199
         },
         {
          "cost": 169.53366599999998,
          "cost_per_active_user": 0.12032197728885734,
          "start": "2018-10-31T00:00:00-07:00",
          "user": 1409
         },
         {
          "cost": 165.6526,
          "cost_per_active_user": 0.11600322128851541,
          "start": "2018-11-01T00:00:00-07:00",
          "user": 1428
         },
         {
          "cost": 174.670979,
          "cost_per_active_user": 0.15096886689714778,
          "start": "2018-11-02T00:00:00-07:00",
          "user": 1157
         },
         {
          "cost": 154.460981,
          "cost_per_active_user": 0.2511560666666667,
          "start": "2018-11-03T00:00:00-07:00",
          "user": 615
         },
         {
          "cost": 160.182685,
          "cost_per_active_user": 0.22981733859397416,
          "start": "2018-11-04T00:00:00-07:00",
          "user": 697
         },
         {
          "cost": 154.16036599999998,
          "cost_per_active_user": 0.15369926819541374,
          "start": "2018-11-05T00:00:00-08:00",
          "user": 1003
         },
         {
          "cost": 154.746287,
          "cost_per_active_user": 0.1444876629318394,
          "start": "2018-11-06T00:00:00-08:00",
          "user": 1071
         },
         {
          "cost": 170.92835399999998,
          "cost_per_active_user": 0.11723481069958847,
          "start": "2018-11-07T00:00:00-08:00",
          "user": 1458
         },
         {
          "cost": 177.70142,
          "cost_per_active_user": 0.14412118410381186,
          "start": "2018-11-08T00:00:00-08:00",
          "user": 1233
         },
         {
          "cost": 179.00012300000003,
          "cost_per_active_user": 0.2624635234604106,
          "start": "2018-11-09T00:00:00-08:00",
          "user": 682
         },
         {
          "cost": 179.290468,
          "cost_per_active_user": 0.2924803719412724,
          "start": "2018-11-10T00:00:00-08:00",
          "user": 613
         },
         {
          "cost": 165.391022,
          "cost_per_active_user": 0.24215376573938505,
          "start": "2018-11-11T00:00:00-08:00",
          "user": 683
         },
         {
          "cost": 157.576163,
          "cost_per_active_user": 0.17705186853932586,
          "start": "2018-11-12T00:00:00-08:00",
          "user": 890
         },
         {
          "cost": 163.672754,
          "cost_per_active_user": 0.1422004813205908,
          "start": "2018-11-13T00:00:00-08:00",
          "user": 1151
         },
         {
          "cost": 183.722065,
          "cost_per_active_user": 0.12207446179401993,
          "start": "2018-11-14T00:00:00-08:00",
          "user": 1505
         },
         {
          "cost": 195.25908099999998,
          "cost_per_active_user": 0.1493948592195868,
          "start": "2018-11-15T00:00:00-08:00",
          "user": 1307
         },
         {
          "cost": 188.49224700000002,
          "cost_per_active_user": 0.21178904157303374,
          "start": "2018-11-16T00:00:00-08:00",
          "user": 890
         },
         {
          "cost": 180.42066499999999,
          "cost_per_active_user": 0.2377083860342556,
          "start": "2018-11-17T00:00:00-08:00",
          "user": 759
         },
         {
          "cost": 170.58507500000002,
          "cost_per_active_user": 0.23303971994535522,
          "start": "2018-11-18T00:00:00-08:00",
          "user": 732
         },
         {
          "cost": 169.096144,
          "cost_per_active_user": 0.20596363459196104,
          "start": "2018-11-19T00:00:00-08:00",
          "user": 821
         },
         {
          "cost": 168.46590500000002,
          "cost_per_active_user": 0.2587801920122888,
          "start": "2018-11-20T00:00:00-08:00",
          "user": 651
         },
         {
          "cost": 168.065076,
          "cost_per_active_user": 0.31297034636871507,
          "start": "2018-11-21T00:00:00-08:00",
          "user": 537
         },
         {
          "cost": 167.400497,
          "cost_per_active_user": 0.39295891314553993,
          "start": "2018-11-22T00:00:00-08:00",
          "user": 426
         },
         {
          "cost": 168.123972,
          "cost_per_active_user": 0.33895962096774196,
          "start": "2018-11-23T00:00:00-08:00",
          "user": 496
         },
         {
          "cost": 167.694091,
          "cost_per_active_user": 0.35229851050420163,
          "start": "2018-11-24T00:00:00-08:00",
          "user": 476
         },
         {
          "cost": 168.44466,
          "cost_per_active_user": 0.269511456,
          "start": "2018-11-25T00:00:00-08:00",
          "user": 625
         },
         {
          "cost": 172.00177,
          "cost_per_active_user": 0.1559399546690843,
          "start": "2018-11-26T00:00:00-08:00",
          "user": 1103
         },
         {
          "cost": 171.23877900000002,
          "cost_per_active_user": 0.1459836138107417,
          "start": "2018-11-27T00:00:00-08:00",
          "user": 1173
         },
         {
          "cost": 170.16072100000002,
          "cost_per_active_user": 0.11991594150810432,
          "start": "2018-11-28T00:00:00-08:00",
          "user": 1419
         },
         {
          "cost": 171.209544,
          "cost_per_active_user": 0.1276730380313199,
          "start": "2018-11-29T00:00:00-08:00",
          "user": 1341
         },
         {
          "cost": 170.10651,
          "cost_per_active_user": 0.1838989297297297,
          "start": "2018-11-30T00:00:00-08:00",
          "user": 925
         },
         {
          "cost": 162.890289,
          "cost_per_active_user": 0.3761900438799076,
          "start": "2018-12-01T00:00:00-08:00",
          "user": 433
         },
         {
          "cost": 164.59242200000003,
          "cost_per_active_user": 0.35094333049040516,
          "start": "2018-12-02T00:00:00-08:00",
          "user": 469
         },
         {
          "cost": 164.49821300000002,
          "cost_per_active_user": 0.26791239902280134,
          "start": "2018-12-03T00:00:00-08:00",
          "user": 614
         },
         {
          "cost": 164.51144,
          "cost_per_active_user": 0.36315991169977924,
          "start": "2018-12-04T00:00:00-08:00",
          "user": 453
         },
         {
          "cost": 165.150755,
          "cost_per_active_user": 0.3296422255489022,
          "start": "2018-12-05T00:00:00-08:00",
          "user": 501
         },
         {
          "cost": 165.040173,
          "cost_per_active_user": 0.3811551339491917,
          "start": "2018-12-06T00:00:00-08:00",
          "user": 433
         },
         {
          "cost": 164.40057099999999,
          "cost_per_active_user": 0.41515295707070704,
          "start": "2018-12-07T00:00:00-08:00",
          "user": 396
         },
         {
          "cost": 164.55875,
          "cost_per_active_user": 0.4956588855421687,
          "start": "2018-12-08T00:00:00-08:00",
          "user": 332
         },
         {
          "cost": 164.60581200000001,
          "cost_per_active_user": 0.5715479583333334,
          "start": "2018-12-09T00:00:00-08:00",
          "user": 288
         },
         {
          "cost": 164.520137,
          "cost_per_active_user": 0.5376475065359477,
          "start": "2018-12-10T00:00:00-08:00",
          "user": 306
         },
         {
          "cost": 164.85765,
          "cost_per_active_user": 0.5088199074074075,
          "start": "2018-12-11T00:00:00-08:00",
          "user": 324
         },
         {
          "cost": 164.251543,
          "cost_per_active_user": 0.35171636616702356,
          "start": "2018-12-12T00:00:00-08:00",
          "user": 467
         },
         {
          "cost": 164.572575,
          "cost_per_active_user": 0.29599383992805756,
          "start": "2018-12-13T00:00:00-08:00",
          "user": 556
         },
         {
          "cost": 162.11756,
          "cost_per_active_user": 0.8229317766497461,
          "start": "2018-12-14T00:00:00-08:00",
          "user": 197
         },
         {
          "cost": null,
          "cost_per_active_user": null,
          "start": "",
          "user": null
         },
         {
          "cost": null,
          "cost_per_active_user": null,
          "start": "",
          "user": null
         }
        ]
       },
       "encoding": {
        "x": {
         "field": "start",
         "type": "temporal"
        },
        "y": {
         "axis": {
          "format": "$.2f"
         },
         "field": "cost_per_active_user",
         "title": "Cost per active user",
         "type": "quantitative"
        }
       },
       "mark": "line",
       "width": 900
      },
      "image/png": "[encoded data removed]",
      "text/plain": [
       "<VegaLite 2 object>\n",
       "\n",
       "If you see this message, it means the renderer has not been properly enabled\n",
       "for the frontend that you are using. For more information, see\n",
       "https://altair-viz.github.io/user_guide/troubleshooting.html\n"
      ]
     },
     "execution_count": 15,
     "metadata": {},
     "output_type": "execute_result"
    }
   ],
   "source": [
    "alt.Chart(total, width=900).mark_line().encode(\n",
    "    x='start',\n",
    "    y=alt.Y('cost_per_active_user', axis=alt.Axis(format=\"$.2f\"), title=\"Cost per active user\")\n",
    ")"
   ]
  },
  {
   "cell_type": "markdown",
   "metadata": {
    "toc-hr-collapsed": true
   },
   "source": [
    "## Total Users\n",
    "\n",
    "One way to count the 'number of users on the JupyterHub' is to look at everyone who has ever started a notebook. Since anyone with a Berkeley.edu account can log in, this is not the most accurate count of people who *use* the hub - but it's useful nonetheless."
   ]
  },
  {
   "cell_type": "code",
   "execution_count": 24,
   "metadata": {},
   "outputs": [
    {
     "data": {
      "text/html": [
       "<h4>Users who used JupyterHub at least once: <b>12257</b></h4>"
      ],
      "text/plain": [
       "<IPython.core.display.HTML object>"
      ]
     },
     "execution_count": 24,
     "metadata": {},
     "output_type": "execute_result"
    }
   ],
   "source": [
    "user_starts_count = sessions.groupby('user').count()['start'].to_frame()\n",
    "display.HTML(f'<h4>Users who used JupyterHub at least once: <b>{user_starts_count.shape[0]}</b></h4>')"
   ]
  },
  {
   "cell_type": "markdown",
   "metadata": {},
   "source": [
    "Some basic stats about number of times users started their servers"
   ]
  },
  {
   "cell_type": "code",
   "execution_count": 25,
   "metadata": {},
   "outputs": [
    {
     "data": {
      "text/html": [
       "<div>\n",
       "<style scoped>\n",
       "    .dataframe tbody tr th:only-of-type {\n",
       "        vertical-align: middle;\n",
       "    }\n",
       "\n",
       "    .dataframe tbody tr th {\n",
       "        vertical-align: top;\n",
       "    }\n",
       "\n",
       "    .dataframe thead th {\n",
       "        text-align: right;\n",
       "    }\n",
       "</style>\n",
       "<table border=\"1\" class=\"dataframe\">\n",
       "  <thead>\n",
       "    <tr style=\"text-align: right;\">\n",
       "      <th></th>\n",
       "      <th>start</th>\n",
       "    </tr>\n",
       "  </thead>\n",
       "  <tbody>\n",
       "    <tr>\n",
       "      <th>count</th>\n",
       "      <td>12257.000000</td>\n",
       "    </tr>\n",
       "    <tr>\n",
       "      <th>mean</th>\n",
       "      <td>21.312801</td>\n",
       "    </tr>\n",
       "    <tr>\n",
       "      <th>std</th>\n",
       "      <td>21.201713</td>\n",
       "    </tr>\n",
       "    <tr>\n",
       "      <th>min</th>\n",
       "      <td>1.000000</td>\n",
       "    </tr>\n",
       "    <tr>\n",
       "      <th>25%</th>\n",
       "      <td>3.000000</td>\n",
       "    </tr>\n",
       "    <tr>\n",
       "      <th>50%</th>\n",
       "      <td>15.000000</td>\n",
       "    </tr>\n",
       "    <tr>\n",
       "      <th>75%</th>\n",
       "      <td>34.000000</td>\n",
       "    </tr>\n",
       "    <tr>\n",
       "      <th>max</th>\n",
       "      <td>193.000000</td>\n",
       "    </tr>\n",
       "  </tbody>\n",
       "</table>\n",
       "</div>"
      ],
      "text/plain": [
       "              start\n",
       "count  12257.000000\n",
       "mean      21.312801\n",
       "std       21.201713\n",
       "min        1.000000\n",
       "25%        3.000000\n",
       "50%       15.000000\n",
       "75%       34.000000\n",
       "max      193.000000"
      ]
     },
     "execution_count": 25,
     "metadata": {},
     "output_type": "execute_result"
    }
   ],
   "source": [
    "user_starts_count.describe()"
   ]
  },
  {
   "cell_type": "markdown",
   "metadata": {},
   "source": [
    "BROKEN -- We can calculate cost per day per user from this user count"
   ]
  },
  {
   "cell_type": "code",
   "execution_count": 18,
   "metadata": {},
   "outputs": [
    {
     "data": {
      "application/vnd.vegalite.v2+json": {
       "$schema": "https://vega.github.io/schema/vega-lite/v2.6.0.json",
       "config": {
        "axis": {
         "labelFontSize": 20,
         "titleFontSize": 20
        }
       },
       "data": {
        "name": "data-94cdaa7ff7fc0dcb19ae69bad4be81f2"
       },
       "datasets": {
        "data-94cdaa7ff7fc0dcb19ae69bad4be81f2": [
         {
          "cost": null,
          "cost_per_active_user": null,
          "cost_per_user": null,
          "start": "2018-08-17T00:00:00-07:00",
          "user": 13
         },
         {
          "cost": null,
          "cost_per_active_user": null,
          "cost_per_user": null,
          "start": "2018-08-18T00:00:00-07:00",
          "user": 38
         },
         {
          "cost": null,
          "cost_per_active_user": null,
          "cost_per_user": null,
          "start": "2018-08-19T00:00:00-07:00",
          "user": 24
         },
         {
          "cost": null,
          "cost_per_active_user": null,
          "cost_per_user": null,
          "start": "2018-08-20T00:00:00-07:00",
          "user": 53
         },
         {
          "cost": null,
          "cost_per_active_user": null,
          "cost_per_user": null,
          "start": "2018-08-21T00:00:00-07:00",
          "user": 135
         },
         {
          "cost": null,
          "cost_per_active_user": null,
          "cost_per_user": null,
          "start": "2018-08-22T00:00:00-07:00",
          "user": 1176
         },
         {
          "cost": null,
          "cost_per_active_user": null,
          "cost_per_user": null,
          "start": "2018-08-23T00:00:00-07:00",
          "user": 1184
         },
         {
          "cost": null,
          "cost_per_active_user": null,
          "cost_per_user": null,
          "start": "2018-08-24T00:00:00-07:00",
          "user": 1332
         },
         {
          "cost": null,
          "cost_per_active_user": null,
          "cost_per_user": null,
          "start": "2018-08-25T00:00:00-07:00",
          "user": 918
         },
         {
          "cost": null,
          "cost_per_active_user": null,
          "cost_per_user": null,
          "start": "2018-08-26T00:00:00-07:00",
          "user": 1133
         },
         {
          "cost": null,
          "cost_per_active_user": null,
          "cost_per_user": null,
          "start": "2018-08-27T00:00:00-07:00",
          "user": 1447
         },
         {
          "cost": null,
          "cost_per_active_user": null,
          "cost_per_user": null,
          "start": "2018-08-28T00:00:00-07:00",
          "user": 1276
         },
         {
          "cost": null,
          "cost_per_active_user": null,
          "cost_per_user": null,
          "start": "2018-08-29T00:00:00-07:00",
          "user": 1519
         },
         {
          "cost": null,
          "cost_per_active_user": null,
          "cost_per_user": null,
          "start": "2018-08-30T00:00:00-07:00",
          "user": 1236
         },
         {
          "cost": null,
          "cost_per_active_user": null,
          "cost_per_user": null,
          "start": "2018-08-31T00:00:00-07:00",
          "user": 1143
         },
         {
          "cost": null,
          "cost_per_active_user": null,
          "cost_per_user": null,
          "start": "2018-09-01T00:00:00-07:00",
          "user": 728
         },
         {
          "cost": null,
          "cost_per_active_user": null,
          "cost_per_user": null,
          "start": "2018-09-02T00:00:00-07:00",
          "user": 914
         },
         {
          "cost": null,
          "cost_per_active_user": null,
          "cost_per_user": null,
          "start": "2018-09-03T00:00:00-07:00",
          "user": 1202
         },
         {
          "cost": null,
          "cost_per_active_user": null,
          "cost_per_user": null,
          "start": "2018-09-04T00:00:00-07:00",
          "user": 1409
         },
         {
          "cost": null,
          "cost_per_active_user": null,
          "cost_per_user": null,
          "start": "2018-09-05T00:00:00-07:00",
          "user": 1586
         },
         {
          "cost": null,
          "cost_per_active_user": null,
          "cost_per_user": null,
          "start": "2018-09-06T00:00:00-07:00",
          "user": 1278
         },
         {
          "cost": null,
          "cost_per_active_user": null,
          "cost_per_user": null,
          "start": "2018-09-07T00:00:00-07:00",
          "user": 1011
         },
         {
          "cost": null,
          "cost_per_active_user": null,
          "cost_per_user": null,
          "start": "2018-09-08T00:00:00-07:00",
          "user": 815
         },
         {
          "cost": null,
          "cost_per_active_user": null,
          "cost_per_user": null,
          "start": "2018-09-09T00:00:00-07:00",
          "user": 971
         },
         {
          "cost": null,
          "cost_per_active_user": null,
          "cost_per_user": null,
          "start": "2018-09-10T00:00:00-07:00",
          "user": 1369
         },
         {
          "cost": null,
          "cost_per_active_user": null,
          "cost_per_user": null,
          "start": "2018-09-11T00:00:00-07:00",
          "user": 1417
         },
         {
          "cost": 40.156909999999996,
          "cost_per_active_user": 0.02689679169457468,
          "cost_per_user": 0.008279775257731959,
          "start": "2018-09-12T00:00:00-07:00",
          "user": 1493
         },
         {
          "cost": null,
          "cost_per_active_user": null,
          "cost_per_user": null,
          "start": "2018-09-12T00:00:00-07:00",
          "user": 1493
         },
         {
          "cost": 263.958762,
          "cost_per_active_user": 0.21832817369727045,
          "cost_per_user": 0.054424487010309275,
          "start": "2018-09-13T00:00:00-07:00",
          "user": 1209
         },
         {
          "cost": 233.378606,
          "cost_per_active_user": 0.2598870890868597,
          "cost_per_user": 0.048119300206185565,
          "start": "2018-09-14T00:00:00-07:00",
          "user": 898
         },
         {
          "cost": 220.49735600000002,
          "cost_per_active_user": 0.28341562467866327,
          "cost_per_user": 0.04546337237113403,
          "start": "2018-09-15T00:00:00-07:00",
          "user": 778
         },
         {
          "cost": 221.476064,
          "cost_per_active_user": 0.2103286457739791,
          "cost_per_user": 0.04566516783505155,
          "start": "2018-09-16T00:00:00-07:00",
          "user": 1053
         },
         {
          "cost": 254.118337,
          "cost_per_active_user": 0.17758094828791054,
          "cost_per_user": 0.05239553340206186,
          "start": "2018-09-17T00:00:00-07:00",
          "user": 1431
         },
         {
          "cost": 268.713372,
          "cost_per_active_user": 0.19963846359583953,
          "cost_per_user": 0.055404818969072164,
          "start": "2018-09-18T00:00:00-07:00",
          "user": 1346
         },
         {
          "cost": 277.049757,
          "cost_per_active_user": 0.18656549292929292,
          "cost_per_user": 0.057123661237113404,
          "start": "2018-09-19T00:00:00-07:00",
          "user": 1485
         },
         {
          "cost": 291.302796,
          "cost_per_active_user": 0.210783499276411,
          "cost_per_user": 0.06006243216494846,
          "start": "2018-09-20T00:00:00-07:00",
          "user": 1382
         },
         {
          "cost": 268.42976,
          "cost_per_active_user": 0.22184277685950413,
          "cost_per_user": 0.055346342268041235,
          "start": "2018-09-21T00:00:00-07:00",
          "user": 1210
         },
         {
          "cost": 246.082326,
          "cost_per_active_user": 0.2954169579831933,
          "cost_per_user": 0.050738623917525774,
          "start": "2018-09-22T00:00:00-07:00",
          "user": 833
         },
         {
          "cost": 244.174214,
          "cost_per_active_user": 0.28163115801614763,
          "cost_per_user": 0.0503451987628866,
          "start": "2018-09-23T00:00:00-07:00",
          "user": 867
         },
         {
          "cost": 245.52624400000002,
          "cost_per_active_user": 0.2068460353833193,
          "cost_per_user": 0.05062396783505155,
          "start": "2018-09-24T00:00:00-07:00",
          "user": 1187
         },
         {
          "cost": 254.888743,
          "cost_per_active_user": 0.20054189063729347,
          "cost_per_user": 0.05255438,
          "start": "2018-09-25T00:00:00-07:00",
          "user": 1271
         },
         {
          "cost": 277.179144,
          "cost_per_active_user": 0.1876636046039269,
          "cost_per_user": 0.057150338969072165,
          "start": "2018-09-26T00:00:00-07:00",
          "user": 1477
         },
         {
          "cost": 290.026115,
          "cost_per_active_user": 0.1991937603021978,
          "cost_per_user": 0.05979919896907217,
          "start": "2018-09-27T00:00:00-07:00",
          "user": 1456
         },
         {
          "cost": 268.253716,
          "cost_per_active_user": 0.2246681038525963,
          "cost_per_user": 0.05531004453608247,
          "start": "2018-09-28T00:00:00-07:00",
          "user": 1194
         },
         {
          "cost": 262.364679,
          "cost_per_active_user": 0.342066074315515,
          "cost_per_user": 0.054095810103092785,
          "start": "2018-09-29T00:00:00-07:00",
          "user": 767
         },
         {
          "cost": 244.44310099999998,
          "cost_per_active_user": 0.2454248002008032,
          "cost_per_user": 0.0504006393814433,
          "start": "2018-09-30T00:00:00-07:00",
          "user": 996
         },
         {
          "cost": 248.97004299999998,
          "cost_per_active_user": 0.1873363754702784,
          "cost_per_user": 0.051334029484536074,
          "start": "2018-10-01T00:00:00-07:00",
          "user": 1329
         },
         {
          "cost": 243.463813,
          "cost_per_active_user": 0.19384061544585987,
          "cost_per_user": 0.0501987243298969,
          "start": "2018-10-02T00:00:00-07:00",
          "user": 1256
         },
         {
          "cost": 304.920198,
          "cost_per_active_user": 0.2042332203616879,
          "cost_per_user": 0.06287014391752578,
          "start": "2018-10-03T00:00:00-07:00",
          "user": 1493
         },
         {
          "cost": 452.96205100000003,
          "cost_per_active_user": 0.3544303998435055,
          "cost_per_user": 0.09339423731958764,
          "start": "2018-10-04T00:00:00-07:00",
          "user": 1278
         },
         {
          "cost": 275.03173200000003,
          "cost_per_active_user": 0.31147421517553797,
          "cost_per_user": 0.05670757360824743,
          "start": "2018-10-05T00:00:00-07:00",
          "user": 883
         },
         {
          "cost": 181.814937,
          "cost_per_active_user": 0.2608535681492109,
          "cost_per_user": 0.037487615876288655,
          "start": "2018-10-06T00:00:00-07:00",
          "user": 697
         },
         {
          "cost": 173.638486,
          "cost_per_active_user": 0.193792953125,
          "cost_per_user": 0.03580174969072165,
          "start": "2018-10-07T00:00:00-07:00",
          "user": 896
         },
         {
          "cost": 197.120381,
          "cost_per_active_user": 0.15400029765625,
          "cost_per_user": 0.0406433775257732,
          "start": "2018-10-08T00:00:00-07:00",
          "user": 1280
         },
         {
          "cost": 212.07737500000002,
          "cost_per_active_user": 0.16363994984567903,
          "cost_per_user": 0.043727293814432994,
          "start": "2018-10-09T00:00:00-07:00",
          "user": 1296
         },
         {
          "cost": 219.799082,
          "cost_per_active_user": 0.1877020341588386,
          "cost_per_user": 0.04531939835051546,
          "start": "2018-10-10T00:00:00-07:00",
          "user": 1171
         },
         {
          "cost": 203.78078899999997,
          "cost_per_active_user": 0.22974158850056367,
          "cost_per_user": 0.04201665752577319,
          "start": "2018-10-11T00:00:00-07:00",
          "user": 887
         },
         {
          "cost": 206.12004299999998,
          "cost_per_active_user": 0.21927664148936168,
          "cost_per_user": 0.042498977938144326,
          "start": "2018-10-12T00:00:00-07:00",
          "user": 940
         },
         {
          "cost": 202.40058399999998,
          "cost_per_active_user": 0.5782873828571428,
          "cost_per_user": 0.04173207917525773,
          "start": "2018-10-13T00:00:00-07:00",
          "user": 350
         },
         {
          "cost": 182.316341,
          "cost_per_active_user": 0.43408652619047616,
          "cost_per_user": 0.037590998144329896,
          "start": "2018-10-14T00:00:00-07:00",
          "user": 420
         },
         {
          "cost": 183.284113,
          "cost_per_active_user": 0.21613692570754717,
          "cost_per_user": 0.03779053876288659,
          "start": "2018-10-15T00:00:00-07:00",
          "user": 848
         },
         {
          "cost": 191.61486699999998,
          "cost_per_active_user": 0.24917407932379712,
          "cost_per_user": 0.03950822,
          "start": "2018-10-16T00:00:00-07:00",
          "user": 769
         },
         {
          "cost": 186.137944,
          "cost_per_active_user": 0.17915105293551492,
          "cost_per_user": 0.038378957525773194,
          "start": "2018-10-17T00:00:00-07:00",
          "user": 1039
         },
         {
          "cost": 185.817201,
          "cost_per_active_user": 0.18922321894093688,
          "cost_per_user": 0.03831282494845361,
          "start": "2018-10-18T00:00:00-07:00",
          "user": 982
         },
         {
          "cost": 185.48708799999997,
          "cost_per_active_user": 0.3086307620632279,
          "cost_per_user": 0.038244760412371126,
          "start": "2018-10-19T00:00:00-07:00",
          "user": 601
         },
         {
          "cost": 149.516785,
          "cost_per_active_user": 0.23884470447284345,
          "cost_per_user": 0.030828203092783505,
          "start": "2018-10-20T00:00:00-07:00",
          "user": 626
         },
         {
          "cost": 121.764895,
          "cost_per_active_user": 0.14977231857318574,
          "cost_per_user": 0.02510616391752577,
          "start": "2018-10-21T00:00:00-07:00",
          "user": 813
         },
         {
          "cost": 142.410472,
          "cost_per_active_user": 0.1228735737704918,
          "cost_per_user": 0.029362983917525773,
          "start": "2018-10-22T00:00:00-07:00",
          "user": 1159
         },
         {
          "cost": 155.93802300000002,
          "cost_per_active_user": 0.1469726889726673,
          "cost_per_user": 0.032152169690721655,
          "start": "2018-10-23T00:00:00-07:00",
          "user": 1061
         },
         {
          "cost": 156.858114,
          "cost_per_active_user": 0.11276643709561467,
          "cost_per_user": 0.03234187917525773,
          "start": "2018-10-24T00:00:00-07:00",
          "user": 1391
         },
         {
          "cost": 156.38318199999998,
          "cost_per_active_user": 0.11937647480916029,
          "cost_per_user": 0.03224395505154639,
          "start": "2018-10-25T00:00:00-07:00",
          "user": 1310
         },
         {
          "cost": 155.87109700000002,
          "cost_per_active_user": 0.1409322757685353,
          "cost_per_user": 0.03213837051546392,
          "start": "2018-10-26T00:00:00-07:00",
          "user": 1106
         },
         {
          "cost": 145.873503,
          "cost_per_active_user": 0.22270763816793893,
          "cost_per_user": 0.030077010927835053,
          "start": "2018-10-27T00:00:00-07:00",
          "user": 655
         },
         {
          "cost": 143.64437099999998,
          "cost_per_active_user": 0.17390359685230022,
          "cost_per_user": 0.029617396082474223,
          "start": "2018-10-28T00:00:00-07:00",
          "user": 826
         },
         {
          "cost": 149.627417,
          "cost_per_active_user": 0.11922503346613547,
          "cost_per_user": 0.03085101381443299,
          "start": "2018-10-29T00:00:00-07:00",
          "user": 1255
         },
         {
          "cost": 168.580365,
          "cost_per_active_user": 0.14060080483736448,
          "cost_per_user": 0.034758838144329895,
          "start": "2018-10-30T00:00:00-07:00",
          "user": 1199
         },
         {
          "cost": 169.53366599999998,
          "cost_per_active_user": 0.12032197728885734,
          "cost_per_user": 0.034955395051546385,
          "start": "2018-10-31T00:00:00-07:00",
          "user": 1409
         },
         {
          "cost": 165.6526,
          "cost_per_active_user": 0.11600322128851541,
          "cost_per_user": 0.03415517525773196,
          "start": "2018-11-01T00:00:00-07:00",
          "user": 1428
         },
         {
          "cost": 174.670979,
          "cost_per_active_user": 0.15096886689714778,
          "cost_per_user": 0.03601463484536082,
          "start": "2018-11-02T00:00:00-07:00",
          "user": 1157
         },
         {
          "cost": 154.460981,
          "cost_per_active_user": 0.2511560666666667,
          "cost_per_user": 0.03184762494845361,
          "start": "2018-11-03T00:00:00-07:00",
          "user": 615
         },
         {
          "cost": 160.182685,
          "cost_per_active_user": 0.22981733859397416,
          "cost_per_user": 0.033027357731958765,
          "start": "2018-11-04T00:00:00-07:00",
          "user": 697
         },
         {
          "cost": 154.16036599999998,
          "cost_per_active_user": 0.15369926819541374,
          "cost_per_user": 0.0317856424742268,
          "start": "2018-11-05T00:00:00-08:00",
          "user": 1003
         },
         {
          "cost": 154.746287,
          "cost_per_active_user": 0.1444876629318394,
          "cost_per_user": 0.03190645092783505,
          "start": "2018-11-06T00:00:00-08:00",
          "user": 1071
         },
         {
          "cost": 170.92835399999998,
          "cost_per_active_user": 0.11723481069958847,
          "cost_per_user": 0.03524295958762886,
          "start": "2018-11-07T00:00:00-08:00",
          "user": 1458
         },
         {
          "cost": 177.70142,
          "cost_per_active_user": 0.14412118410381186,
          "cost_per_user": 0.03663946804123712,
          "start": "2018-11-08T00:00:00-08:00",
          "user": 1233
         },
         {
          "cost": 179.00012300000003,
          "cost_per_active_user": 0.2624635234604106,
          "cost_per_user": 0.03690724185567011,
          "start": "2018-11-09T00:00:00-08:00",
          "user": 682
         },
         {
          "cost": 179.290468,
          "cost_per_active_user": 0.2924803719412724,
          "cost_per_user": 0.03696710680412371,
          "start": "2018-11-10T00:00:00-08:00",
          "user": 613
         },
         {
          "cost": 165.391022,
          "cost_per_active_user": 0.24215376573938505,
          "cost_per_user": 0.03410124164948453,
          "start": "2018-11-11T00:00:00-08:00",
          "user": 683
         },
         {
          "cost": 157.576163,
          "cost_per_active_user": 0.17705186853932586,
          "cost_per_user": 0.03248993051546392,
          "start": "2018-11-12T00:00:00-08:00",
          "user": 890
         },
         {
          "cost": 163.672754,
          "cost_per_active_user": 0.1422004813205908,
          "cost_per_user": 0.03374695958762886,
          "start": "2018-11-13T00:00:00-08:00",
          "user": 1151
         },
         {
          "cost": 183.722065,
          "cost_per_active_user": 0.12207446179401993,
          "cost_per_user": 0.037880838144329895,
          "start": "2018-11-14T00:00:00-08:00",
          "user": 1505
         },
         {
          "cost": 195.25908099999998,
          "cost_per_active_user": 0.1493948592195868,
          "cost_per_user": 0.040259604329896906,
          "start": "2018-11-15T00:00:00-08:00",
          "user": 1307
         },
         {
          "cost": 188.49224700000002,
          "cost_per_active_user": 0.21178904157303374,
          "cost_per_user": 0.03886438082474227,
          "start": "2018-11-16T00:00:00-08:00",
          "user": 890
         },
         {
          "cost": 180.42066499999999,
          "cost_per_active_user": 0.2377083860342556,
          "cost_per_user": 0.03720013711340206,
          "start": "2018-11-17T00:00:00-08:00",
          "user": 759
         },
         {
          "cost": 170.58507500000002,
          "cost_per_active_user": 0.23303971994535522,
          "cost_per_user": 0.035172180412371135,
          "start": "2018-11-18T00:00:00-08:00",
          "user": 732
         },
         {
          "cost": 169.096144,
          "cost_per_active_user": 0.20596363459196104,
          "cost_per_user": 0.03486518432989691,
          "start": "2018-11-19T00:00:00-08:00",
          "user": 821
         },
         {
          "cost": 168.46590500000002,
          "cost_per_active_user": 0.2587801920122888,
          "cost_per_user": 0.034735238144329904,
          "start": "2018-11-20T00:00:00-08:00",
          "user": 651
         },
         {
          "cost": 168.065076,
          "cost_per_active_user": 0.31297034636871507,
          "cost_per_user": 0.03465259298969072,
          "start": "2018-11-21T00:00:00-08:00",
          "user": 537
         },
         {
          "cost": 167.400497,
          "cost_per_active_user": 0.39295891314553993,
          "cost_per_user": 0.03451556639175258,
          "start": "2018-11-22T00:00:00-08:00",
          "user": 426
         },
         {
          "cost": 168.123972,
          "cost_per_active_user": 0.33895962096774196,
          "cost_per_user": 0.03466473649484536,
          "start": "2018-11-23T00:00:00-08:00",
          "user": 496
         },
         {
          "cost": 167.694091,
          "cost_per_active_user": 0.35229851050420163,
          "cost_per_user": 0.034576101237113396,
          "start": "2018-11-24T00:00:00-08:00",
          "user": 476
         },
         {
          "cost": 168.44466,
          "cost_per_active_user": 0.269511456,
          "cost_per_user": 0.03473085773195876,
          "start": "2018-11-25T00:00:00-08:00",
          "user": 625
         },
         {
          "cost": 172.00177,
          "cost_per_active_user": 0.1559399546690843,
          "cost_per_user": 0.0354642824742268,
          "start": "2018-11-26T00:00:00-08:00",
          "user": 1103
         },
         {
          "cost": 171.23877900000002,
          "cost_per_active_user": 0.1459836138107417,
          "cost_per_user": 0.03530696474226805,
          "start": "2018-11-27T00:00:00-08:00",
          "user": 1173
         },
         {
          "cost": 170.16072100000002,
          "cost_per_active_user": 0.11991594150810432,
          "cost_per_user": 0.035084684742268044,
          "start": "2018-11-28T00:00:00-08:00",
          "user": 1419
         },
         {
          "cost": 171.209544,
          "cost_per_active_user": 0.1276730380313199,
          "cost_per_user": 0.035300936907216494,
          "start": "2018-11-29T00:00:00-08:00",
          "user": 1341
         },
         {
          "cost": 170.10651,
          "cost_per_active_user": 0.1838989297297297,
          "cost_per_user": 0.03507350721649484,
          "start": "2018-11-30T00:00:00-08:00",
          "user": 925
         },
         {
          "cost": 162.890289,
          "cost_per_active_user": 0.3761900438799076,
          "cost_per_user": 0.033585626597938144,
          "start": "2018-12-01T00:00:00-08:00",
          "user": 433
         },
         {
          "cost": 164.59242200000003,
          "cost_per_active_user": 0.35094333049040516,
          "cost_per_user": 0.03393658185567011,
          "start": "2018-12-02T00:00:00-08:00",
          "user": 469
         },
         {
          "cost": 164.49821300000002,
          "cost_per_active_user": 0.26791239902280134,
          "cost_per_user": 0.03391715731958763,
          "start": "2018-12-03T00:00:00-08:00",
          "user": 614
         },
         {
          "cost": 164.51144,
          "cost_per_active_user": 0.36315991169977924,
          "cost_per_user": 0.033919884536082474,
          "start": "2018-12-04T00:00:00-08:00",
          "user": 453
         },
         {
          "cost": 165.150755,
          "cost_per_active_user": 0.3296422255489022,
          "cost_per_user": 0.03405170206185567,
          "start": "2018-12-05T00:00:00-08:00",
          "user": 501
         },
         {
          "cost": 165.040173,
          "cost_per_active_user": 0.3811551339491917,
          "cost_per_user": 0.034028901649484536,
          "start": "2018-12-06T00:00:00-08:00",
          "user": 433
         },
         {
          "cost": 164.40057099999999,
          "cost_per_active_user": 0.41515295707070704,
          "cost_per_user": 0.033897024948453605,
          "start": "2018-12-07T00:00:00-08:00",
          "user": 396
         },
         {
          "cost": 164.55875,
          "cost_per_active_user": 0.4956588855421687,
          "cost_per_user": 0.03392963917525773,
          "start": "2018-12-08T00:00:00-08:00",
          "user": 332
         },
         {
          "cost": 164.60581200000001,
          "cost_per_active_user": 0.5715479583333334,
          "cost_per_user": 0.03393934268041238,
          "start": "2018-12-09T00:00:00-08:00",
          "user": 288
         },
         {
          "cost": 164.520137,
          "cost_per_active_user": 0.5376475065359477,
          "cost_per_user": 0.03392167773195876,
          "start": "2018-12-10T00:00:00-08:00",
          "user": 306
         },
         {
          "cost": 164.85765,
          "cost_per_active_user": 0.5088199074074075,
          "cost_per_user": 0.033991268041237116,
          "start": "2018-12-11T00:00:00-08:00",
          "user": 324
         },
         {
          "cost": 164.251543,
          "cost_per_active_user": 0.35171636616702356,
          "cost_per_user": 0.03386629752577319,
          "start": "2018-12-12T00:00:00-08:00",
          "user": 467
         },
         {
          "cost": 164.572575,
          "cost_per_active_user": 0.29599383992805756,
          "cost_per_user": 0.03393248969072165,
          "start": "2018-12-13T00:00:00-08:00",
          "user": 556
         },
         {
          "cost": 162.11756,
          "cost_per_active_user": 0.8229317766497461,
          "cost_per_user": 0.033426301030927835,
          "start": "2018-12-14T00:00:00-08:00",
          "user": 197
         },
         {
          "cost": null,
          "cost_per_active_user": null,
          "cost_per_user": null,
          "start": "",
          "user": null
         },
         {
          "cost": null,
          "cost_per_active_user": null,
          "cost_per_user": null,
          "start": "",
          "user": null
         }
        ]
       },
       "encoding": {
        "x": {
         "field": "start",
         "type": "temporal"
        },
        "y": {
         "axis": {
          "format": "$.2f"
         },
         "field": "cost_per_user",
         "title": "Cost per user",
         "type": "quantitative"
        }
       },
       "mark": "line",
       "title": "Daily cost per user",
       "width": 900
      },
      "image/png": "[encoded data removed]",
      "text/plain": [
       "<VegaLite 2 object>\n",
       "\n",
       "If you see this message, it means the renderer has not been properly enabled\n",
       "for the frontend that you are using. For more information, see\n",
       "https://altair-viz.github.io/user_guide/troubleshooting.html\n"
      ]
     },
     "execution_count": 18,
     "metadata": {},
     "output_type": "execute_result"
    }
   ],
   "source": [
    "total['cost_per_user'] = total['cost'] / user_starts_count.count()['start']\n",
    "\n",
    "alt.Chart(total, width=900, title='Daily cost per user').mark_line().encode(\n",
    "    x='start',\n",
    "    y=alt.Y('cost_per_user', axis=alt.Axis(format=\"$.2f\"), title=\"Cost per user\")\n",
    ")"
   ]
  },
  {
   "cell_type": "markdown",
   "metadata": {},
   "source": [
    "We can also figure out how much they cost per month."
   ]
  },
  {
   "cell_type": "code",
   "execution_count": 19,
   "metadata": {},
   "outputs": [
    {
     "data": {
      "application/vnd.vegalite.v2+json": {
       "$schema": "https://vega.github.io/schema/vega-lite/v2.6.0.json",
       "config": {
        "axis": {
         "labelFontSize": 20,
         "titleFontSize": 20
        }
       },
       "data": {
        "name": "data-c2dad245f05cd5a2a7d7bf72b1de7e0d"
       },
       "datasets": {
        "data-c2dad245f05cd5a2a7d7bf72b1de7e0d": [
         {
          "cost": 0,
          "cost_per_user": 0,
          "start_time": "2018-08-31T00:00:00-07:00"
         },
         {
          "cost": 4672.020002,
          "cost_per_user": 0.9633030931958764,
          "start_time": "2018-09-30T00:00:00-07:00"
         },
         {
          "cost": 6052.7589579999985,
          "cost_per_user": 1.2479915377319584,
          "start_time": "2018-10-31T00:00:00-07:00"
         },
         {
          "cost": 5107.921004,
          "cost_per_user": 1.0531795884536082,
          "start_time": "2018-11-30T00:00:00-08:00"
         },
         {
          "cost": 2300.56789,
          "cost_per_user": 0.47434389484536077,
          "start_time": "2018-12-31T00:00:00-08:00"
         }
        ]
       },
       "encoding": {
        "x": {
         "field": "start_time",
         "timeUnit": "month",
         "type": "ordinal"
        },
        "y": {
         "axis": {
          "format": "$.2f"
         },
         "field": "cost_per_user",
         "title": "Cost per user",
         "type": "quantitative"
        }
       },
       "mark": "bar",
       "title": "Monthly cost per user",
       "width": 900
      },
      "image/png": "[encoded data removed]",
      "text/plain": [
       "<VegaLite 2 object>\n",
       "\n",
       "If you see this message, it means the renderer has not been properly enabled\n",
       "for the frontend that you are using. For more information, see\n",
       "https://altair-viz.github.io/user_guide/troubleshooting.html\n"
      ]
     },
     "execution_count": 19,
     "metadata": {},
     "output_type": "execute_result"
    }
   ],
   "source": [
    "monthly = cost.copy().set_index('start_time').resample('M').sum()\n",
    "monthly['cost_per_user'] = monthly['cost'] / user_starts_count.count()['start']\n",
    "monthly = monthly.reset_index()\n",
    "\n",
    "alt.Chart(monthly, width=900, title='Monthly cost per user').mark_bar().encode(\n",
    "    x='month(start_time):O',\n",
    "    y=alt.Y('cost_per_user', axis=alt.Axis(format=\"$.2f\"), title=\"Cost per user\")\n",
    ")"
   ]
  },
  {
   "cell_type": "markdown",
   "metadata": {
    "toc-hr-collapsed": true
   },
   "source": [
    "## BROKEN -- Realistic user count\n",
    "\n",
    "A lot of people might log in a few times to the JupyterHub to check it out, and then never really come back. We should avoid counting those as 'users' when doing our cost analysis. \n",
    "\n",
    "We can cut off outliers at the 99th percentile and plot a histogram to see how most people use the hub"
   ]
  },
  {
   "cell_type": "code",
   "execution_count": null,
   "metadata": {},
   "outputs": [],
   "source": [
    "outlier_cutoff = user_starts_count.quantile(0.99)\n",
    "alt.Chart(user_starts_count[user_starts_count['start'] < outlier_cutoff['start']], width=900).mark_bar().encode(\n",
    "    alt.X('start', bin=alt.BinParams(maxbins=100)),\n",
    "    y='count()'\n",
    ")"
   ]
  },
  {
   "cell_type": "markdown",
   "metadata": {},
   "source": [
    "There's a lot of users who use the hub <5 times, and many who use it 5-10 times. We pick an arbitrary cut off of 'ten notebook server starts' to count as a 'real' user and not someone just trying out the hub."
   ]
  },
  {
   "cell_type": "code",
   "execution_count": 26,
   "metadata": {},
   "outputs": [
    {
     "data": {
      "text/html": [
       "<h4>Users who used the hub more than 10 times: <b>6942"
      ],
      "text/plain": [
       "<IPython.core.display.HTML object>"
      ]
     },
     "execution_count": 26,
     "metadata": {},
     "output_type": "execute_result"
    }
   ],
   "source": [
    "users_with_more_than_ten_starts = user_starts_count[user_starts_count['start'] > 10]\n",
    "display.HTML(f'<h4>Users who used the hub more than 10 times: <b>{users_with_more_than_ten_starts.count()[\"start\"]}')"
   ]
  },
  {
   "cell_type": "markdown",
   "metadata": {},
   "source": [
    "We can use this to plot a daily and monthly cost per user"
   ]
  },
  {
   "cell_type": "code",
   "execution_count": 22,
   "metadata": {},
   "outputs": [
    {
     "data": {
      "application/vnd.vegalite.v2+json": {
       "$schema": "https://vega.github.io/schema/vega-lite/v2.6.0.json",
       "config": {
        "axis": {
         "labelFontSize": 20,
         "titleFontSize": 20
        }
       },
       "data": {
        "name": "data-30259d427312df51d5e08a1f54864043"
       },
       "datasets": {
        "data-30259d427312df51d5e08a1f54864043": [
         {
          "cost": null,
          "cost_per_active_user": null,
          "cost_per_realistic_user": null,
          "cost_per_user": null,
          "start": "2018-08-17T00:00:00-07:00",
          "user": 13
         },
         {
          "cost": null,
          "cost_per_active_user": null,
          "cost_per_realistic_user": null,
          "cost_per_user": null,
          "start": "2018-08-18T00:00:00-07:00",
          "user": 38
         },
         {
          "cost": null,
          "cost_per_active_user": null,
          "cost_per_realistic_user": null,
          "cost_per_user": null,
          "start": "2018-08-19T00:00:00-07:00",
          "user": 24
         },
         {
          "cost": null,
          "cost_per_active_user": null,
          "cost_per_realistic_user": null,
          "cost_per_user": null,
          "start": "2018-08-20T00:00:00-07:00",
          "user": 53
         },
         {
          "cost": null,
          "cost_per_active_user": null,
          "cost_per_realistic_user": null,
          "cost_per_user": null,
          "start": "2018-08-21T00:00:00-07:00",
          "user": 135
         },
         {
          "cost": null,
          "cost_per_active_user": null,
          "cost_per_realistic_user": null,
          "cost_per_user": null,
          "start": "2018-08-22T00:00:00-07:00",
          "user": 1176
         },
         {
          "cost": null,
          "cost_per_active_user": null,
          "cost_per_realistic_user": null,
          "cost_per_user": null,
          "start": "2018-08-23T00:00:00-07:00",
          "user": 1184
         },
         {
          "cost": null,
          "cost_per_active_user": null,
          "cost_per_realistic_user": null,
          "cost_per_user": null,
          "start": "2018-08-24T00:00:00-07:00",
          "user": 1332
         },
         {
          "cost": null,
          "cost_per_active_user": null,
          "cost_per_realistic_user": null,
          "cost_per_user": null,
          "start": "2018-08-25T00:00:00-07:00",
          "user": 918
         },
         {
          "cost": null,
          "cost_per_active_user": null,
          "cost_per_realistic_user": null,
          "cost_per_user": null,
          "start": "2018-08-26T00:00:00-07:00",
          "user": 1133
         },
         {
          "cost": null,
          "cost_per_active_user": null,
          "cost_per_realistic_user": null,
          "cost_per_user": null,
          "start": "2018-08-27T00:00:00-07:00",
          "user": 1447
         },
         {
          "cost": null,
          "cost_per_active_user": null,
          "cost_per_realistic_user": null,
          "cost_per_user": null,
          "start": "2018-08-28T00:00:00-07:00",
          "user": 1276
         },
         {
          "cost": null,
          "cost_per_active_user": null,
          "cost_per_realistic_user": null,
          "cost_per_user": null,
          "start": "2018-08-29T00:00:00-07:00",
          "user": 1519
         },
         {
          "cost": null,
          "cost_per_active_user": null,
          "cost_per_realistic_user": null,
          "cost_per_user": null,
          "start": "2018-08-30T00:00:00-07:00",
          "user": 1236
         },
         {
          "cost": null,
          "cost_per_active_user": null,
          "cost_per_realistic_user": null,
          "cost_per_user": null,
          "start": "2018-08-31T00:00:00-07:00",
          "user": 1143
         },
         {
          "cost": null,
          "cost_per_active_user": null,
          "cost_per_realistic_user": null,
          "cost_per_user": null,
          "start": "2018-09-01T00:00:00-07:00",
          "user": 728
         },
         {
          "cost": null,
          "cost_per_active_user": null,
          "cost_per_realistic_user": null,
          "cost_per_user": null,
          "start": "2018-09-02T00:00:00-07:00",
          "user": 914
         },
         {
          "cost": null,
          "cost_per_active_user": null,
          "cost_per_realistic_user": null,
          "cost_per_user": null,
          "start": "2018-09-03T00:00:00-07:00",
          "user": 1202
         },
         {
          "cost": null,
          "cost_per_active_user": null,
          "cost_per_realistic_user": null,
          "cost_per_user": null,
          "start": "2018-09-04T00:00:00-07:00",
          "user": 1409
         },
         {
          "cost": null,
          "cost_per_active_user": null,
          "cost_per_realistic_user": null,
          "cost_per_user": null,
          "start": "2018-09-05T00:00:00-07:00",
          "user": 1586
         },
         {
          "cost": null,
          "cost_per_active_user": null,
          "cost_per_realistic_user": null,
          "cost_per_user": null,
          "start": "2018-09-06T00:00:00-07:00",
          "user": 1278
         },
         {
          "cost": null,
          "cost_per_active_user": null,
          "cost_per_realistic_user": null,
          "cost_per_user": null,
          "start": "2018-09-07T00:00:00-07:00",
          "user": 1011
         },
         {
          "cost": null,
          "cost_per_active_user": null,
          "cost_per_realistic_user": null,
          "cost_per_user": null,
          "start": "2018-09-08T00:00:00-07:00",
          "user": 815
         },
         {
          "cost": null,
          "cost_per_active_user": null,
          "cost_per_realistic_user": null,
          "cost_per_user": null,
          "start": "2018-09-09T00:00:00-07:00",
          "user": 971
         },
         {
          "cost": null,
          "cost_per_active_user": null,
          "cost_per_realistic_user": null,
          "cost_per_user": null,
          "start": "2018-09-10T00:00:00-07:00",
          "user": 1369
         },
         {
          "cost": null,
          "cost_per_active_user": null,
          "cost_per_realistic_user": null,
          "cost_per_user": null,
          "start": "2018-09-11T00:00:00-07:00",
          "user": 1417
         },
         {
          "cost": 40.156909999999996,
          "cost_per_active_user": 0.02689679169457468,
          "cost_per_realistic_user": 0.015176458805744518,
          "cost_per_user": 0.008279775257731959,
          "start": "2018-09-12T00:00:00-07:00",
          "user": 1493
         },
         {
          "cost": null,
          "cost_per_active_user": null,
          "cost_per_realistic_user": null,
          "cost_per_user": null,
          "start": "2018-09-12T00:00:00-07:00",
          "user": 1493
         },
         {
          "cost": 263.958762,
          "cost_per_active_user": 0.21832817369727045,
          "cost_per_realistic_user": 0.09975765759637187,
          "cost_per_user": 0.054424487010309275,
          "start": "2018-09-13T00:00:00-07:00",
          "user": 1209
         },
         {
          "cost": 233.378606,
          "cost_per_active_user": 0.2598870890868597,
          "cost_per_realistic_user": 0.0882005313681028,
          "cost_per_user": 0.048119300206185565,
          "start": "2018-09-14T00:00:00-07:00",
          "user": 898
         },
         {
          "cost": 220.49735600000002,
          "cost_per_active_user": 0.28341562467866327,
          "cost_per_realistic_user": 0.08333233408919125,
          "cost_per_user": 0.04546337237113403,
          "start": "2018-09-15T00:00:00-07:00",
          "user": 778
         },
         {
          "cost": 221.476064,
          "cost_per_active_user": 0.2103286457739791,
          "cost_per_realistic_user": 0.08370221617535903,
          "cost_per_user": 0.04566516783505155,
          "start": "2018-09-16T00:00:00-07:00",
          "user": 1053
         },
         {
          "cost": 254.118337,
          "cost_per_active_user": 0.17758094828791054,
          "cost_per_realistic_user": 0.0960386761148904,
          "cost_per_user": 0.05239553340206186,
          "start": "2018-09-17T00:00:00-07:00",
          "user": 1431
         },
         {
          "cost": 268.713372,
          "cost_per_active_user": 0.19963846359583953,
          "cost_per_realistic_user": 0.10155456235827665,
          "cost_per_user": 0.055404818969072164,
          "start": "2018-09-18T00:00:00-07:00",
          "user": 1346
         },
         {
          "cost": 277.049757,
          "cost_per_active_user": 0.18656549292929292,
          "cost_per_realistic_user": 0.10470512358276644,
          "cost_per_user": 0.057123661237113404,
          "start": "2018-09-19T00:00:00-07:00",
          "user": 1485
         },
         {
          "cost": 291.302796,
          "cost_per_active_user": 0.210783499276411,
          "cost_per_realistic_user": 0.1100917596371882,
          "cost_per_user": 0.06006243216494846,
          "start": "2018-09-20T00:00:00-07:00",
          "user": 1382
         },
         {
          "cost": 268.42976,
          "cost_per_active_user": 0.22184277685950413,
          "cost_per_realistic_user": 0.10144737717309145,
          "cost_per_user": 0.055346342268041235,
          "start": "2018-09-21T00:00:00-07:00",
          "user": 1210
         },
         {
          "cost": 246.082326,
          "cost_per_active_user": 0.2954169579831933,
          "cost_per_realistic_user": 0.09300163492063492,
          "cost_per_user": 0.050738623917525774,
          "start": "2018-09-22T00:00:00-07:00",
          "user": 833
         },
         {
          "cost": 244.174214,
          "cost_per_active_user": 0.28163115801614763,
          "cost_per_realistic_user": 0.09228050415721845,
          "cost_per_user": 0.0503451987628866,
          "start": "2018-09-23T00:00:00-07:00",
          "user": 867
         },
         {
          "cost": 245.52624400000002,
          "cost_per_active_user": 0.2068460353833193,
          "cost_per_realistic_user": 0.0927914754346183,
          "cost_per_user": 0.05062396783505155,
          "start": "2018-09-24T00:00:00-07:00",
          "user": 1187
         },
         {
          "cost": 254.888743,
          "cost_per_active_user": 0.20054189063729347,
          "cost_per_realistic_user": 0.09632983484504913,
          "cost_per_user": 0.05255438,
          "start": "2018-09-25T00:00:00-07:00",
          "user": 1271
         },
         {
          "cost": 277.179144,
          "cost_per_active_user": 0.1876636046039269,
          "cost_per_realistic_user": 0.10475402267573697,
          "cost_per_user": 0.057150338969072165,
          "start": "2018-09-26T00:00:00-07:00",
          "user": 1477
         },
         {
          "cost": 290.026115,
          "cost_per_active_user": 0.1991937603021978,
          "cost_per_realistic_user": 0.1096092649281935,
          "cost_per_user": 0.05979919896907217,
          "start": "2018-09-27T00:00:00-07:00",
          "user": 1456
         },
         {
          "cost": 268.253716,
          "cost_per_active_user": 0.2246681038525963,
          "cost_per_realistic_user": 0.10138084504913077,
          "cost_per_user": 0.05531004453608247,
          "start": "2018-09-28T00:00:00-07:00",
          "user": 1194
         },
         {
          "cost": 262.364679,
          "cost_per_active_user": 0.342066074315515,
          "cost_per_realistic_user": 0.09915520748299321,
          "cost_per_user": 0.054095810103092785,
          "start": "2018-09-29T00:00:00-07:00",
          "user": 767
         },
         {
          "cost": 244.44310099999998,
          "cost_per_active_user": 0.2454248002008032,
          "cost_per_realistic_user": 0.09238212433862433,
          "cost_per_user": 0.0504006393814433,
          "start": "2018-09-30T00:00:00-07:00",
          "user": 996
         },
         {
          "cost": 248.97004299999998,
          "cost_per_active_user": 0.1873363754702784,
          "cost_per_realistic_user": 0.09409298677248676,
          "cost_per_user": 0.051334029484536074,
          "start": "2018-10-01T00:00:00-07:00",
          "user": 1329
         },
         {
          "cost": 243.463813,
          "cost_per_active_user": 0.19384061544585987,
          "cost_per_realistic_user": 0.0920120230536659,
          "cost_per_user": 0.0501987243298969,
          "start": "2018-10-02T00:00:00-07:00",
          "user": 1256
         },
         {
          "cost": 304.920198,
          "cost_per_active_user": 0.2042332203616879,
          "cost_per_realistic_user": 0.11523817006802722,
          "cost_per_user": 0.06287014391752578,
          "start": "2018-10-03T00:00:00-07:00",
          "user": 1493
         },
         {
          "cost": 452.96205100000003,
          "cost_per_active_user": 0.3544303998435055,
          "cost_per_realistic_user": 0.17118747203325776,
          "cost_per_user": 0.09339423731958764,
          "start": "2018-10-04T00:00:00-07:00",
          "user": 1278
         },
         {
          "cost": 275.03173200000003,
          "cost_per_active_user": 0.31147421517553797,
          "cost_per_realistic_user": 0.10394245351473924,
          "cost_per_user": 0.05670757360824743,
          "start": "2018-10-05T00:00:00-07:00",
          "user": 883
         },
         {
          "cost": 181.814937,
          "cost_per_active_user": 0.2608535681492109,
          "cost_per_realistic_user": 0.06871312811791383,
          "cost_per_user": 0.037487615876288655,
          "start": "2018-10-06T00:00:00-07:00",
          "user": 697
         },
         {
          "cost": 173.638486,
          "cost_per_active_user": 0.193792953125,
          "cost_per_realistic_user": 0.06562301058201059,
          "cost_per_user": 0.03580174969072165,
          "start": "2018-10-07T00:00:00-07:00",
          "user": 896
         },
         {
          "cost": 197.120381,
          "cost_per_active_user": 0.15400029765625,
          "cost_per_realistic_user": 0.0744974984882842,
          "cost_per_user": 0.0406433775257732,
          "start": "2018-10-08T00:00:00-07:00",
          "user": 1280
         },
         {
          "cost": 212.07737500000002,
          "cost_per_active_user": 0.16363994984567903,
          "cost_per_realistic_user": 0.08015017951625095,
          "cost_per_user": 0.043727293814432994,
          "start": "2018-10-09T00:00:00-07:00",
          "user": 1296
         },
         {
          "cost": 219.799082,
          "cost_per_active_user": 0.1877020341588386,
          "cost_per_realistic_user": 0.08306843613000756,
          "cost_per_user": 0.04531939835051546,
          "start": "2018-10-10T00:00:00-07:00",
          "user": 1171
         },
         {
          "cost": 203.78078899999997,
          "cost_per_active_user": 0.22974158850056367,
          "cost_per_realistic_user": 0.07701465948601662,
          "cost_per_user": 0.04201665752577319,
          "start": "2018-10-11T00:00:00-07:00",
          "user": 887
         },
         {
          "cost": 206.12004299999998,
          "cost_per_active_user": 0.21927664148936168,
          "cost_per_realistic_user": 0.077898731292517,
          "cost_per_user": 0.042498977938144326,
          "start": "2018-10-12T00:00:00-07:00",
          "user": 940
         },
         {
          "cost": 202.40058399999998,
          "cost_per_active_user": 0.5782873828571428,
          "cost_per_realistic_user": 0.07649304006046863,
          "cost_per_user": 0.04173207917525773,
          "start": "2018-10-13T00:00:00-07:00",
          "user": 350
         },
         {
          "cost": 182.316341,
          "cost_per_active_user": 0.43408652619047616,
          "cost_per_realistic_user": 0.06890262320483749,
          "cost_per_user": 0.037590998144329896,
          "start": "2018-10-14T00:00:00-07:00",
          "user": 420
         },
         {
          "cost": 183.284113,
          "cost_per_active_user": 0.21613692570754717,
          "cost_per_realistic_user": 0.06926837226001512,
          "cost_per_user": 0.03779053876288659,
          "start": "2018-10-15T00:00:00-07:00",
          "user": 848
         },
         {
          "cost": 191.61486699999998,
          "cost_per_active_user": 0.24917407932379712,
          "cost_per_realistic_user": 0.07241680536659108,
          "cost_per_user": 0.03950822,
          "start": "2018-10-16T00:00:00-07:00",
          "user": 769
         },
         {
          "cost": 186.137944,
          "cost_per_active_user": 0.17915105293551492,
          "cost_per_realistic_user": 0.07034691761148903,
          "cost_per_user": 0.038378957525773194,
          "start": "2018-10-17T00:00:00-07:00",
          "user": 1039
         },
         {
          "cost": 185.817201,
          "cost_per_active_user": 0.18922321894093688,
          "cost_per_realistic_user": 0.07022569954648526,
          "cost_per_user": 0.03831282494845361,
          "start": "2018-10-18T00:00:00-07:00",
          "user": 982
         },
         {
          "cost": 185.48708799999997,
          "cost_per_active_user": 0.3086307620632279,
          "cost_per_realistic_user": 0.070100940287226,
          "cost_per_user": 0.038244760412371126,
          "start": "2018-10-19T00:00:00-07:00",
          "user": 601
         },
         {
          "cost": 149.516785,
          "cost_per_active_user": 0.23884470447284345,
          "cost_per_realistic_user": 0.056506721466364325,
          "cost_per_user": 0.030828203092783505,
          "start": "2018-10-20T00:00:00-07:00",
          "user": 626
         },
         {
          "cost": 121.764895,
          "cost_per_active_user": 0.14977231857318574,
          "cost_per_realistic_user": 0.046018478835978836,
          "cost_per_user": 0.02510616391752577,
          "start": "2018-10-21T00:00:00-07:00",
          "user": 813
         },
         {
          "cost": 142.410472,
          "cost_per_active_user": 0.1228735737704918,
          "cost_per_realistic_user": 0.05382104006046863,
          "cost_per_user": 0.029362983917525773,
          "start": "2018-10-22T00:00:00-07:00",
          "user": 1159
         },
         {
          "cost": 155.93802300000002,
          "cost_per_active_user": 0.1469726889726673,
          "cost_per_realistic_user": 0.05893349319727892,
          "cost_per_user": 0.032152169690721655,
          "start": "2018-10-23T00:00:00-07:00",
          "user": 1061
         },
         {
          "cost": 156.858114,
          "cost_per_active_user": 0.11276643709561467,
          "cost_per_realistic_user": 0.05928122222222222,
          "cost_per_user": 0.03234187917525773,
          "start": "2018-10-24T00:00:00-07:00",
          "user": 1391
         },
         {
          "cost": 156.38318199999998,
          "cost_per_active_user": 0.11937647480916029,
          "cost_per_realistic_user": 0.059101731670445946,
          "cost_per_user": 0.03224395505154639,
          "start": "2018-10-25T00:00:00-07:00",
          "user": 1310
         },
         {
          "cost": 155.87109700000002,
          "cost_per_active_user": 0.1409322757685353,
          "cost_per_realistic_user": 0.05890819992441422,
          "cost_per_user": 0.03213837051546392,
          "start": "2018-10-26T00:00:00-07:00",
          "user": 1106
         },
         {
          "cost": 145.873503,
          "cost_per_active_user": 0.22270763816793893,
          "cost_per_realistic_user": 0.055129819727891154,
          "cost_per_user": 0.030077010927835053,
          "start": "2018-10-27T00:00:00-07:00",
          "user": 655
         },
         {
          "cost": 143.64437099999998,
          "cost_per_active_user": 0.17390359685230022,
          "cost_per_realistic_user": 0.054287366213151916,
          "cost_per_user": 0.029617396082474223,
          "start": "2018-10-28T00:00:00-07:00",
          "user": 826
         },
         {
          "cost": 149.627417,
          "cost_per_active_user": 0.11922503346613547,
          "cost_per_realistic_user": 0.056548532501889646,
          "cost_per_user": 0.03085101381443299,
          "start": "2018-10-29T00:00:00-07:00",
          "user": 1255
         },
         {
          "cost": 168.580365,
          "cost_per_active_user": 0.14060080483736448,
          "cost_per_realistic_user": 0.06371140022675736,
          "cost_per_user": 0.034758838144329895,
          "start": "2018-10-30T00:00:00-07:00",
          "user": 1199
         },
         {
          "cost": 169.53366599999998,
          "cost_per_active_user": 0.12032197728885734,
          "cost_per_realistic_user": 0.06407168027210884,
          "cost_per_user": 0.034955395051546385,
          "start": "2018-10-31T00:00:00-07:00",
          "user": 1409
         },
         {
          "cost": 165.6526,
          "cost_per_active_user": 0.11600322128851541,
          "cost_per_realistic_user": 0.06260491307634165,
          "cost_per_user": 0.03415517525773196,
          "start": "2018-11-01T00:00:00-07:00",
          "user": 1428
         },
         {
          "cost": 174.670979,
          "cost_per_active_user": 0.15096886689714778,
          "cost_per_realistic_user": 0.06601321957671957,
          "cost_per_user": 0.03601463484536082,
          "start": "2018-11-02T00:00:00-07:00",
          "user": 1157
         },
         {
          "cost": 154.460981,
          "cost_per_active_user": 0.2511560666666667,
          "cost_per_realistic_user": 0.05837527626606198,
          "cost_per_user": 0.03184762494845361,
          "start": "2018-11-03T00:00:00-07:00",
          "user": 615
         },
         {
          "cost": 160.182685,
          "cost_per_active_user": 0.22981733859397416,
          "cost_per_realistic_user": 0.0605376738473167,
          "cost_per_user": 0.033027357731958765,
          "start": "2018-11-04T00:00:00-07:00",
          "user": 697
         },
         {
          "cost": 154.16036599999998,
          "cost_per_active_user": 0.15369926819541374,
          "cost_per_realistic_user": 0.05826166515495086,
          "cost_per_user": 0.0317856424742268,
          "start": "2018-11-05T00:00:00-08:00",
          "user": 1003
         },
         {
          "cost": 154.746287,
          "cost_per_active_user": 0.1444876629318394,
          "cost_per_realistic_user": 0.05848310166288737,
          "cost_per_user": 0.03190645092783505,
          "start": "2018-11-06T00:00:00-08:00",
          "user": 1071
         },
         {
          "cost": 170.92835399999998,
          "cost_per_active_user": 0.11723481069958847,
          "cost_per_realistic_user": 0.06459877324263039,
          "cost_per_user": 0.03524295958762886,
          "start": "2018-11-07T00:00:00-08:00",
          "user": 1458
         },
         {
          "cost": 177.70142,
          "cost_per_active_user": 0.14412118410381186,
          "cost_per_realistic_user": 0.06715851095993954,
          "cost_per_user": 0.03663946804123712,
          "start": "2018-11-08T00:00:00-08:00",
          "user": 1233
         },
         {
          "cost": 179.00012300000003,
          "cost_per_active_user": 0.2624635234604106,
          "cost_per_realistic_user": 0.067649328420257,
          "cost_per_user": 0.03690724185567011,
          "start": "2018-11-09T00:00:00-08:00",
          "user": 682
         },
         {
          "cost": 179.290468,
          "cost_per_active_user": 0.2924803719412724,
          "cost_per_realistic_user": 0.06775905820105821,
          "cost_per_user": 0.03696710680412371,
          "start": "2018-11-10T00:00:00-08:00",
          "user": 613
         },
         {
          "cost": 165.391022,
          "cost_per_active_user": 0.24215376573938505,
          "cost_per_realistic_user": 0.0625060551776266,
          "cost_per_user": 0.03410124164948453,
          "start": "2018-11-11T00:00:00-08:00",
          "user": 683
         },
         {
          "cost": 157.576163,
          "cost_per_active_user": 0.17705186853932586,
          "cost_per_realistic_user": 0.059552593726379444,
          "cost_per_user": 0.03248993051546392,
          "start": "2018-11-12T00:00:00-08:00",
          "user": 890
         },
         {
          "cost": 163.672754,
          "cost_per_active_user": 0.1422004813205908,
          "cost_per_realistic_user": 0.06185667195767196,
          "cost_per_user": 0.03374695958762886,
          "start": "2018-11-13T00:00:00-08:00",
          "user": 1151
         },
         {
          "cost": 183.722065,
          "cost_per_active_user": 0.12207446179401993,
          "cost_per_realistic_user": 0.06943388699924413,
          "cost_per_user": 0.037880838144329895,
          "start": "2018-11-14T00:00:00-08:00",
          "user": 1505
         },
         {
          "cost": 195.25908099999998,
          "cost_per_active_user": 0.1493948592195868,
          "cost_per_realistic_user": 0.07379405933484504,
          "cost_per_user": 0.040259604329896906,
          "start": "2018-11-15T00:00:00-08:00",
          "user": 1307
         },
         {
          "cost": 188.49224700000002,
          "cost_per_active_user": 0.21178904157303374,
          "cost_per_realistic_user": 0.0712366768707483,
          "cost_per_user": 0.03886438082474227,
          "start": "2018-11-16T00:00:00-08:00",
          "user": 890
         },
         {
          "cost": 180.42066499999999,
          "cost_per_active_user": 0.2377083860342556,
          "cost_per_realistic_user": 0.06818619236583522,
          "cost_per_user": 0.03720013711340206,
          "start": "2018-11-17T00:00:00-08:00",
          "user": 759
         },
         {
          "cost": 170.58507500000002,
          "cost_per_active_user": 0.23303971994535522,
          "cost_per_realistic_user": 0.06446903817082389,
          "cost_per_user": 0.035172180412371135,
          "start": "2018-11-18T00:00:00-08:00",
          "user": 732
         },
         {
          "cost": 169.096144,
          "cost_per_active_user": 0.20596363459196104,
          "cost_per_realistic_user": 0.06390632804232804,
          "cost_per_user": 0.03486518432989691,
          "start": "2018-11-19T00:00:00-08:00",
          "user": 821
         },
         {
          "cost": 168.46590500000002,
          "cost_per_active_user": 0.2587801920122888,
          "cost_per_realistic_user": 0.06366814247921392,
          "cost_per_user": 0.034735238144329904,
          "start": "2018-11-20T00:00:00-08:00",
          "user": 651
         },
         {
          "cost": 168.065076,
          "cost_per_active_user": 0.31297034636871507,
          "cost_per_realistic_user": 0.06351665759637189,
          "cost_per_user": 0.03465259298969072,
          "start": "2018-11-21T00:00:00-08:00",
          "user": 537
         },
         {
          "cost": 167.400497,
          "cost_per_active_user": 0.39295891314553993,
          "cost_per_realistic_user": 0.06326549395313681,
          "cost_per_user": 0.03451556639175258,
          "start": "2018-11-22T00:00:00-08:00",
          "user": 426
         },
         {
          "cost": 168.123972,
          "cost_per_active_user": 0.33895962096774196,
          "cost_per_realistic_user": 0.06353891609977325,
          "cost_per_user": 0.03466473649484536,
          "start": "2018-11-23T00:00:00-08:00",
          "user": 496
         },
         {
          "cost": 167.694091,
          "cost_per_active_user": 0.35229851050420163,
          "cost_per_realistic_user": 0.06337645162509448,
          "cost_per_user": 0.034576101237113396,
          "start": "2018-11-24T00:00:00-08:00",
          "user": 476
         },
         {
          "cost": 168.44466,
          "cost_per_active_user": 0.269511456,
          "cost_per_realistic_user": 0.06366011337868481,
          "cost_per_user": 0.03473085773195876,
          "start": "2018-11-25T00:00:00-08:00",
          "user": 625
         },
         {
          "cost": 172.00177,
          "cost_per_active_user": 0.1559399546690843,
          "cost_per_realistic_user": 0.06500444822373394,
          "cost_per_user": 0.0354642824742268,
          "start": "2018-11-26T00:00:00-08:00",
          "user": 1103
         },
         {
          "cost": 171.23877900000002,
          "cost_per_active_user": 0.1459836138107417,
          "cost_per_realistic_user": 0.0647160918367347,
          "cost_per_user": 0.03530696474226805,
          "start": "2018-11-27T00:00:00-08:00",
          "user": 1173
         },
         {
          "cost": 170.16072100000002,
          "cost_per_active_user": 0.11991594150810432,
          "cost_per_realistic_user": 0.06430866250944824,
          "cost_per_user": 0.035084684742268044,
          "start": "2018-11-28T00:00:00-08:00",
          "user": 1419
         },
         {
          "cost": 171.209544,
          "cost_per_active_user": 0.1276730380313199,
          "cost_per_realistic_user": 0.06470504308390022,
          "cost_per_user": 0.035300936907216494,
          "start": "2018-11-29T00:00:00-08:00",
          "user": 1341
         },
         {
          "cost": 170.10651,
          "cost_per_active_user": 0.1838989297297297,
          "cost_per_realistic_user": 0.0642881746031746,
          "cost_per_user": 0.03507350721649484,
          "start": "2018-11-30T00:00:00-08:00",
          "user": 925
         },
         {
          "cost": 162.890289,
          "cost_per_active_user": 0.3761900438799076,
          "cost_per_realistic_user": 0.06156095578231292,
          "cost_per_user": 0.033585626597938144,
          "start": "2018-12-01T00:00:00-08:00",
          "user": 433
         },
         {
          "cost": 164.59242200000003,
          "cost_per_active_user": 0.35094333049040516,
          "cost_per_realistic_user": 0.0622042411186697,
          "cost_per_user": 0.03393658185567011,
          "start": "2018-12-02T00:00:00-08:00",
          "user": 469
         },
         {
          "cost": 164.49821300000002,
          "cost_per_active_user": 0.26791239902280134,
          "cost_per_realistic_user": 0.062168636810279676,
          "cost_per_user": 0.03391715731958763,
          "start": "2018-12-03T00:00:00-08:00",
          "user": 614
         },
         {
          "cost": 164.51144,
          "cost_per_active_user": 0.36315991169977924,
          "cost_per_realistic_user": 0.06217363567649282,
          "cost_per_user": 0.033919884536082474,
          "start": "2018-12-04T00:00:00-08:00",
          "user": 453
         },
         {
          "cost": 165.150755,
          "cost_per_active_user": 0.3296422255489022,
          "cost_per_realistic_user": 0.062415251322751324,
          "cost_per_user": 0.03405170206185567,
          "start": "2018-12-05T00:00:00-08:00",
          "user": 501
         },
         {
          "cost": 165.040173,
          "cost_per_active_user": 0.3811551339491917,
          "cost_per_realistic_user": 0.06237345918367347,
          "cost_per_user": 0.034028901649484536,
          "start": "2018-12-06T00:00:00-08:00",
          "user": 433
         },
         {
          "cost": 164.40057099999999,
          "cost_per_active_user": 0.41515295707070704,
          "cost_per_realistic_user": 0.06213173507180649,
          "cost_per_user": 0.033897024948453605,
          "start": "2018-12-07T00:00:00-08:00",
          "user": 396
         },
         {
          "cost": 164.55875,
          "cost_per_active_user": 0.4956588855421687,
          "cost_per_realistic_user": 0.062191515495086926,
          "cost_per_user": 0.03392963917525773,
          "start": "2018-12-08T00:00:00-08:00",
          "user": 332
         },
         {
          "cost": 164.60581200000001,
          "cost_per_active_user": 0.5715479583333334,
          "cost_per_realistic_user": 0.06220930158730159,
          "cost_per_user": 0.03393934268041238,
          "start": "2018-12-09T00:00:00-08:00",
          "user": 288
         },
         {
          "cost": 164.520137,
          "cost_per_active_user": 0.5376475065359477,
          "cost_per_realistic_user": 0.06217692252456539,
          "cost_per_user": 0.03392167773195876,
          "start": "2018-12-10T00:00:00-08:00",
          "user": 306
         },
         {
          "cost": 164.85765,
          "cost_per_active_user": 0.5088199074074075,
          "cost_per_realistic_user": 0.062304478458049886,
          "cost_per_user": 0.033991268041237116,
          "start": "2018-12-11T00:00:00-08:00",
          "user": 324
         },
         {
          "cost": 164.251543,
          "cost_per_active_user": 0.35171636616702356,
          "cost_per_realistic_user": 0.062075413076341644,
          "cost_per_user": 0.03386629752577319,
          "start": "2018-12-12T00:00:00-08:00",
          "user": 467
         },
         {
          "cost": 164.572575,
          "cost_per_active_user": 0.29599383992805756,
          "cost_per_realistic_user": 0.062196740362811795,
          "cost_per_user": 0.03393248969072165,
          "start": "2018-12-13T00:00:00-08:00",
          "user": 556
         },
         {
          "cost": 162.11756,
          "cost_per_active_user": 0.8229317766497461,
          "cost_per_realistic_user": 0.06126891912320483,
          "cost_per_user": 0.033426301030927835,
          "start": "2018-12-14T00:00:00-08:00",
          "user": 197
         },
         {
          "cost": null,
          "cost_per_active_user": null,
          "cost_per_realistic_user": null,
          "cost_per_user": null,
          "start": "",
          "user": null
         },
         {
          "cost": null,
          "cost_per_active_user": null,
          "cost_per_realistic_user": null,
          "cost_per_user": null,
          "start": "",
          "user": null
         }
        ]
       },
       "encoding": {
        "x": {
         "field": "start",
         "type": "temporal"
        },
        "y": {
         "axis": {
          "format": "$.2f"
         },
         "field": "cost_per_realistic_user",
         "title": "Cost per realistic user",
         "type": "quantitative"
        }
       },
       "mark": "line",
       "title": "Daily cost per user (with >10 server starts)",
       "width": 900
      },
      "image/png": "[encoded data removed]",
      "text/plain": [
       "<VegaLite 2 object>\n",
       "\n",
       "If you see this message, it means the renderer has not been properly enabled\n",
       "for the frontend that you are using. For more information, see\n",
       "https://altair-viz.github.io/user_guide/troubleshooting.html\n"
      ]
     },
     "execution_count": 22,
     "metadata": {},
     "output_type": "execute_result"
    }
   ],
   "source": [
    "total['cost_per_realistic_user'] = total['cost'] / users_with_more_than_ten_starts.count()['start']\n",
    "\n",
    "alt.Chart(total, width=900, title='Daily cost per user (with >10 server starts)').mark_line().encode(\n",
    "    x='start',\n",
    "    y=alt.Y('cost_per_realistic_user', axis=alt.Axis(format=\"$.2f\"), title=\"Cost per realistic user\")\n",
    ")"
   ]
  },
  {
   "cell_type": "code",
   "execution_count": 23,
   "metadata": {},
   "outputs": [
    {
     "data": {
      "application/vnd.vegalite.v2+json": {
       "$schema": "https://vega.github.io/schema/vega-lite/v2.6.0.json",
       "config": {
        "axis": {
         "labelFontSize": 20,
         "titleFontSize": 20
        }
       },
       "data": {
        "name": "data-b4391edabb13fc8e281fb4b61ca7fee3"
       },
       "datasets": {
        "data-b4391edabb13fc8e281fb4b61ca7fee3": [
         {
          "cost": 0,
          "cost_per_realistic_user": 0,
          "start_time": "2018-08-31T00:00:00-07:00"
         },
         {
          "cost": 4672.020002,
          "cost_per_realistic_user": 1.7656916107331821,
          "start_time": "2018-09-30T00:00:00-07:00"
         },
         {
          "cost": 6052.7589579999985,
          "cost_per_realistic_user": 2.287512833711262,
          "start_time": "2018-10-31T00:00:00-07:00"
         },
         {
          "cost": 5107.921004,
          "cost_per_realistic_user": 1.9304312184429326,
          "start_time": "2018-11-30T00:00:00-08:00"
         },
         {
          "cost": 2300.56789,
          "cost_per_realistic_user": 0.8694512055933484,
          "start_time": "2018-12-31T00:00:00-08:00"
         }
        ]
       },
       "encoding": {
        "x": {
         "field": "start_time",
         "timeUnit": "month",
         "type": "ordinal"
        },
        "y": {
         "field": "cost_per_realistic_user",
         "type": "quantitative"
        }
       },
       "mark": "bar",
       "title": "Monthly cost per user (with >10 starts)",
       "width": 900
      },
      "image/png": "[encoded data removed]",
      "text/plain": [
       "<VegaLite 2 object>\n",
       "\n",
       "If you see this message, it means the renderer has not been properly enabled\n",
       "for the frontend that you are using. For more information, see\n",
       "https://altair-viz.github.io/user_guide/troubleshooting.html\n"
      ]
     },
     "execution_count": 23,
     "metadata": {},
     "output_type": "execute_result"
    }
   ],
   "source": [
    "realistic_monthly = cost.copy().set_index('start_time').resample('M').sum()\n",
    "realistic_monthly['cost_per_realistic_user'] = realistic_monthly['cost'] / users_with_more_than_ten_starts.count()['start']\n",
    "realistic_monthly = realistic_monthly.reset_index()\n",
    "\n",
    "alt.Chart(realistic_monthly, width=900, title='Monthly cost per user (with >10 starts)').mark_bar().encode(\n",
    "    x='month(start_time):O',\n",
    "    y='cost_per_realistic_user'\n",
    ")"
   ]
  },
  {
   "cell_type": "markdown",
   "metadata": {},
   "source": [
    "## Session length"
   ]
  },
  {
   "cell_type": "code",
   "execution_count": 27,
   "metadata": {},
   "outputs": [
    {
     "data": {
      "text/html": [
       "\n",
       "<style>\n",
       "  #altair-viz-058b8852aa1549aba5379abd87283d26.vega-embed {\n",
       "    width: 100%;\n",
       "    display: flex;\n",
       "  }\n",
       "\n",
       "  #altair-viz-058b8852aa1549aba5379abd87283d26.vega-embed details,\n",
       "  #altair-viz-058b8852aa1549aba5379abd87283d26.vega-embed details summary {\n",
       "    position: relative;\n",
       "  }\n",
       "</style>\n",
       "<div id=\"altair-viz-058b8852aa1549aba5379abd87283d26\"></div>\n",
       "<script type=\"text/javascript\">\n",
       "  var VEGA_DEBUG = (typeof VEGA_DEBUG == \"undefined\") ? {} : VEGA_DEBUG;\n",
       "  (function(spec, embedOpt){\n",
       "    let outputDiv = document.currentScript.previousElementSibling;\n",
       "    if (outputDiv.id !== \"altair-viz-058b8852aa1549aba5379abd87283d26\") {\n",
       "      outputDiv = document.getElementById(\"altair-viz-058b8852aa1549aba5379abd87283d26\");\n",
       "    }\n",
       "    const paths = {\n",
       "      \"vega\": \"https://cdn.jsdelivr.net/npm/vega@5?noext\",\n",
       "      \"vega-lib\": \"https://cdn.jsdelivr.net/npm/vega-lib?noext\",\n",
       "      \"vega-lite\": \"https://cdn.jsdelivr.net/npm/vega-lite@5.8.0?noext\",\n",
       "      \"vega-embed\": \"https://cdn.jsdelivr.net/npm/vega-embed@6?noext\",\n",
       "    };\n",
       "\n",
       "    function maybeLoadScript(lib, version) {\n",
       "      var key = `${lib.replace(\"-\", \"\")}_version`;\n",
       "      return (VEGA_DEBUG[key] == version) ?\n",
       "        Promise.resolve(paths[lib]) :\n",
       "        new Promise(function(resolve, reject) {\n",
       "          var s = document.createElement('script');\n",
       "          document.getElementsByTagName(\"head\")[0].appendChild(s);\n",
       "          s.async = true;\n",
       "          s.onload = () => {\n",
       "            VEGA_DEBUG[key] = version;\n",
       "            return resolve(paths[lib]);\n",
       "          };\n",
       "          s.onerror = () => reject(`Error loading script: ${paths[lib]}`);\n",
       "          s.src = paths[lib];\n",
       "        });\n",
       "    }\n",
       "\n",
       "    function showError(err) {\n",
       "      outputDiv.innerHTML = `<div class=\"error\" style=\"color:red;\">${err}</div>`;\n",
       "      throw err;\n",
       "    }\n",
       "\n",
       "    function displayChart(vegaEmbed) {\n",
       "      vegaEmbed(outputDiv, spec, embedOpt)\n",
       "        .catch(err => showError(`Javascript Error: ${err.message}<br>This usually means there's a typo in your chart specification. See the javascript console for the full traceback.`));\n",
       "    }\n",
       "\n",
       "    if(typeof define === \"function\" && define.amd) {\n",
       "      requirejs.config({paths});\n",
       "      require([\"vega-embed\"], displayChart, err => showError(`Error loading script: ${err.message}`));\n",
       "    } else {\n",
       "      maybeLoadScript(\"vega\", \"5\")\n",
       "        .then(() => maybeLoadScript(\"vega-lite\", \"5.8.0\"))\n",
       "        .then(() => maybeLoadScript(\"vega-embed\", \"6\"))\n",
       "        .catch(showError)\n",
       "        .then(() => displayChart(vegaEmbed));\n",
       "    }\n",
       "  })({\"config\": {\"axis\": {\"labelFontSize\": 20, \"titleFontSize\": 20}}, \"data\": {\"name\": \"data-7540d65aff48939df71b77e10c65423b\"}, \"mark\": {\"type\": \"bar\"}, \"encoding\": {\"x\": {\"field\": \"length_hours\", \"type\": \"quantitative\"}, \"y\": {\"field\": \"start\", \"title\": \"Count\", \"type\": \"quantitative\"}}, \"width\": 300, \"$schema\": \"https://vega.github.io/schema/vega-lite/v5.8.0.json\", \"datasets\": {\"data-7540d65aff48939df71b77e10c65423b\": [{\"length_hours\": 0, \"start\": 17701, \"stop\": 17701, \"user\": 17701}, {\"length_hours\": 1, \"start\": 24481, \"stop\": 24481, \"user\": 24481}, {\"length_hours\": 2, \"start\": 27367, \"stop\": 27367, \"user\": 27367}, {\"length_hours\": 3, \"start\": 23115, \"stop\": 23115, \"user\": 23115}, {\"length_hours\": 4, \"start\": 18267, \"stop\": 18267, \"user\": 18267}, {\"length_hours\": 5, \"start\": 14152, \"stop\": 14152, \"user\": 14152}, {\"length_hours\": 6, \"start\": 11265, \"stop\": 11265, \"user\": 11265}, {\"length_hours\": 7, \"start\": 8712, \"stop\": 8712, \"user\": 8712}, {\"length_hours\": 8, \"start\": 6821, \"stop\": 6821, \"user\": 6821}, {\"length_hours\": 9, \"start\": 5922, \"stop\": 5922, \"user\": 5922}, {\"length_hours\": 10, \"start\": 5639, \"stop\": 5639, \"user\": 5639}, {\"length_hours\": 11, \"start\": 5643, \"stop\": 5643, \"user\": 5643}, {\"length_hours\": 12, \"start\": 6083, \"stop\": 6083, \"user\": 6083}, {\"length_hours\": 13, \"start\": 6370, \"stop\": 6370, \"user\": 6370}, {\"length_hours\": 14, \"start\": 6337, \"stop\": 6337, \"user\": 6337}, {\"length_hours\": 15, \"start\": 6666, \"stop\": 6666, \"user\": 6666}, {\"length_hours\": 16, \"start\": 7012, \"stop\": 7012, \"user\": 7012}, {\"length_hours\": 17, \"start\": 7405, \"stop\": 7405, \"user\": 7405}, {\"length_hours\": 18, \"start\": 7815, \"stop\": 7815, \"user\": 7815}, {\"length_hours\": 19, \"start\": 8142, \"stop\": 8142, \"user\": 8142}, {\"length_hours\": 20, \"start\": 8386, \"stop\": 8386, \"user\": 8386}, {\"length_hours\": 21, \"start\": 8599, \"stop\": 8599, \"user\": 8599}, {\"length_hours\": 22, \"start\": 9133, \"stop\": 9133, \"user\": 9133}, {\"length_hours\": 23, \"start\": 10198, \"stop\": 10198, \"user\": 10198}]}}, {\"mode\": \"vega-lite\"});\n",
       "</script>"
      ],
      "text/plain": [
       "alt.Chart(...)"
      ]
     },
     "execution_count": 27,
     "metadata": {},
     "output_type": "execute_result"
    }
   ],
   "source": [
    "length_counts = sessions.groupby('length_hours').count().reset_index()\n",
    "alt.Chart(length_counts, width=300).mark_bar().encode(\n",
    "    x='length_hours',\n",
    "    y=alt.Y('start', title=\"Count\")\n",
    ")"
   ]
  },
  {
   "cell_type": "markdown",
   "metadata": {},
   "source": [
    "# Summary\n",
    "\n",
    "Mean number of daily active users per day: **1783**\n",
    "\n",
    "Monthly cost per 'realistic' user: **~2$**  <--- needs to be updated!"
   ]
  },
  {
   "cell_type": "code",
   "execution_count": null,
   "metadata": {},
   "outputs": [],
   "source": []
  }
 ],
 "metadata": {
  "kernelspec": {
   "display_name": "Python 3 (ipykernel)",
   "language": "python",
   "name": "python3"
  },
  "language_info": {
   "codemirror_mode": {
    "name": "ipython",
    "version": 3
   },
   "file_extension": ".py",
   "mimetype": "text/x-python",
   "name": "python",
   "nbconvert_exporter": "python",
   "pygments_lexer": "ipython3",
   "version": "3.11.4"
  }
 },
 "nbformat": 4,
 "nbformat_minor": 4
}
